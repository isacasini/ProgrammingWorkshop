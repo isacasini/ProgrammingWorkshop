{
 "cells": [
  {
   "cell_type": "markdown",
   "id": "d866d913",
   "metadata": {},
   "source": [
    "# Plotting 2.0\n",
    "\n",
    "Last session, 003_Plotting, we introduced scatterplots. We will continue in this session with more real data and more complex scatter plot configurations, including:\n",
    "1) Multiple axes\n",
    "2) Error bands (vs error bands)\n",
    "3) Saving your figure\n",
    "\n",
    "__Additional Concepts__:\n",
    "- Skipping rows when reading in data(frames)\n",
    "- MultiIndexing in headers (https://pandas.pydata.org/docs/user_guide/advanced.html)\n",
    "\n",
    "*Last edited: Isabella Casini 20.06.2025*"
   ]
  },
  {
   "cell_type": "markdown",
   "id": "6ed9fa35",
   "metadata": {},
   "source": [
    "## 1) Import required packages"
   ]
  },
  {
   "cell_type": "code",
   "execution_count": null,
   "id": "613d31e7",
   "metadata": {},
   "outputs": [],
   "source": [
    "# import relevant packages (entire line is commented out)\n",
    "\n",
    "import pandas as pd # call pandas \"pd\" for short (midline comment)\n",
    "\n",
    "import matplotlib.pyplot as plt # import pyplot from matplotlib and call it \"plt\"\n",
    "\n",
    "import numpy as np"
   ]
  },
  {
   "cell_type": "markdown",
   "id": "afbd35b6",
   "metadata": {},
   "source": [
    "## 2) Download data to graph\n",
    "\n",
    "Go to the following link and save the Data_S3.xlsx file (*remember the location you save it*).\n",
    "\n",
    "https://github.com/isacasini/Casini_2023_GEM/tree/main\n",
    "\n",
    "Take a few minutes to look at the \"ReadMe\" sheet (in Excel)."
   ]
  },
  {
   "cell_type": "markdown",
   "id": "85714846",
   "metadata": {},
   "source": [
    "## 3) Read in data of interest as a Pandas dataframe\n",
    "\n",
    "We will use \"Sheet14\" (biomass - gCDW), \"Sheet17\" (hydrogen specific uptake),\"Sheet19\" (carbon dioxide specific uptake), \"Sheet21\" (methane specific production).\n",
    "\n",
    "The sheets are not very clean, so we need to alter parameters how to read in our data in a useful fashion."
   ]
  },
  {
   "cell_type": "code",
   "execution_count": null,
   "id": "f72c0a73",
   "metadata": {},
   "outputs": [],
   "source": [
    "# Path to the file (change your path to where you save your file)\n",
    "pathin = r\"C:\\Users\\uqicasin\\Documents\\Teaching\\Program_Workshop\\Sample_Data\\Data_S3.xlsx\""
   ]
  },
  {
   "cell_type": "markdown",
   "id": "f611acc7",
   "metadata": {},
   "source": [
    "### 3.1) Read in biomass data"
   ]
  },
  {
   "cell_type": "code",
   "execution_count": null,
   "id": "7f95634f",
   "metadata": {},
   "outputs": [],
   "source": [
    "# Read in the biomass data, (\"skiprows\" ->drop the first two rows; set the next two rows as combined header - MULTIINDEXING)\n",
    "gcdw_df = pd.read_excel(pathin, sheet_name='Sheet14', skiprows=[0,1], header=[0,1])"
   ]
  },
  {
   "cell_type": "code",
   "execution_count": null,
   "id": "87237307",
   "metadata": {
    "scrolled": true
   },
   "outputs": [],
   "source": [
    "# Take a look at the dataframe\n",
    "gcdw_df"
   ]
  },
  {
   "cell_type": "code",
   "execution_count": null,
   "id": "75546dd7",
   "metadata": {},
   "outputs": [],
   "source": [
    "# Look at the column names\n",
    "print(gcdw_df.columns)"
   ]
  },
  {
   "cell_type": "markdown",
   "id": "06bef5cf",
   "metadata": {},
   "source": [
    "### 3.2) Extract out biomass data that we want to graph"
   ]
  },
  {
   "cell_type": "code",
   "execution_count": null,
   "id": "7f3eb524",
   "metadata": {},
   "outputs": [],
   "source": [
    "# Note the structure of the column names: ('level1', 'level2')\n",
    "columns_to_copy = [('Reactor','Elasped Days'),('ΔHAVG','gCDW'),('ΔHSTD','gCDW'),('ZZAVG','gCDW'),('ZZSTD','gCDW'),('MMAVG','gCDW'),('MMSTD','gCDW')]\n",
    "gcdw_graph_df = gcdw_df[columns_to_copy].iloc[:9].copy() # select the rows with .iloc"
   ]
  },
  {
   "cell_type": "code",
   "execution_count": null,
   "id": "c1702d00",
   "metadata": {},
   "outputs": [],
   "source": [
    "# Check your dataframe\n",
    "gcdw_graph_df"
   ]
  },
  {
   "cell_type": "markdown",
   "id": "ff03a324",
   "metadata": {},
   "source": [
    "### 3.3) Read in H2 Data"
   ]
  },
  {
   "cell_type": "code",
   "execution_count": null,
   "id": "35b656ef",
   "metadata": {},
   "outputs": [],
   "source": [
    "# Read in the biomass data, (\"skiprows\" ->drop the first two rows, and the third one; no combined header)\n",
    "h2_df = pd.read_excel(pathin, sheet_name='Sheet17', skiprows=[0,1,3], header=[0])"
   ]
  },
  {
   "cell_type": "code",
   "execution_count": null,
   "id": "ab2d6a56",
   "metadata": {},
   "outputs": [],
   "source": [
    "# Check your dataframe\n",
    "h2_df"
   ]
  },
  {
   "cell_type": "code",
   "execution_count": null,
   "id": "d3cd9230",
   "metadata": {},
   "outputs": [],
   "source": [
    "# Check the columns, when the dataframe was read in, suffixes were added to the column to prevent duplicates\n",
    "print(h2_df.columns)\n",
    "\n",
    "# Use the duplicated command to check for duplicate columns\n",
    "print(h2_df.columns.duplicated())"
   ]
  },
  {
   "cell_type": "markdown",
   "id": "36f77877",
   "metadata": {},
   "source": [
    "### 3.4) Extract out the H2 data we want to graph\n",
    "\n",
    "Average and STDP columns for the three microbes ($\\Delta$ H, ZZ, MM)"
   ]
  },
  {
   "cell_type": "code",
   "execution_count": null,
   "id": "5a6edf06",
   "metadata": {},
   "outputs": [],
   "source": [
    "# Note the different quotations\n",
    "columns_to_copy = ['Elasped Days','Average H2','STDP H2','Average H2.1','STDP H2.1','Average H2.2','STDP H2.2']\n",
    "h2_graph_df = h2_df[columns_to_copy].iloc[:9].copy() # select the rows with .iloc\n"
   ]
  },
  {
   "cell_type": "code",
   "execution_count": null,
   "id": "9f30b338",
   "metadata": {},
   "outputs": [],
   "source": [
    "# Check your dataframe\n",
    "h2_graph_df"
   ]
  },
  {
   "cell_type": "code",
   "execution_count": null,
   "id": "a64c407f",
   "metadata": {},
   "outputs": [],
   "source": [
    "# Rename the columns using a dictionary (oldname:newname)\n",
    "rename_dict = {'Average H2':'Average H2 DH','STDP H2':'STDP H2 DH','Average H2.1':'Average H2 ZZ',\n",
    "               'STDP H2.1':'STDP H2 ZZ','Average H2.2':'Average H2 MM','STDP H2.2':'STDP H2 MM'}\n",
    "\n",
    "h2_graph_df.rename(columns=rename_dict, inplace=True)"
   ]
  },
  {
   "cell_type": "code",
   "execution_count": null,
   "id": "70b523c9",
   "metadata": {},
   "outputs": [],
   "source": [
    "# Check your dataframe\n",
    "h2_graph_df"
   ]
  },
  {
   "cell_type": "markdown",
   "id": "d22101c1",
   "metadata": {},
   "source": [
    "### 3.5) Read in CO2 Data"
   ]
  },
  {
   "cell_type": "code",
   "execution_count": null,
   "id": "4cbaf463",
   "metadata": {},
   "outputs": [],
   "source": [
    "# Read in the biomass data, (\"skiprows\" ->drop the first two rows, and the third one; no combined header)\n",
    "co2_df = pd.read_excel(pathin, sheet_name='Sheet19', skiprows=[0,1,3], header=[0])"
   ]
  },
  {
   "cell_type": "code",
   "execution_count": null,
   "id": "984f459d",
   "metadata": {},
   "outputs": [],
   "source": [
    "# Check your dataframe\n",
    "co2_df"
   ]
  },
  {
   "cell_type": "markdown",
   "id": "0c1fa3fc",
   "metadata": {},
   "source": [
    "### 3.6) Extract out CO2 data that we want to graph\n",
    "\n",
    "Average and STDP columns for the three microbes ($\\Delta$ H, ZZ, MM)"
   ]
  },
  {
   "cell_type": "code",
   "execution_count": null,
   "id": "0d5d1878",
   "metadata": {},
   "outputs": [],
   "source": [
    "# Note the different quotations\n",
    "columns_to_copy = ['Elasped Days','Average CO2','STDP CO2','Average CO2.1','STDP CO2.1','Average CO2.2','STDP CO2.2']\n",
    "co2_graph_df = co2_df[columns_to_copy].iloc[:9].copy() # select the rows with .iloc\n"
   ]
  },
  {
   "cell_type": "code",
   "execution_count": null,
   "id": "71174202",
   "metadata": {},
   "outputs": [],
   "source": [
    "# Rename the columns using a dictionary (oldname:newname)\n",
    "rename_dict = {'Average CO2':'Average CO2 DH','STDP CO2':'STDP CO2 DH','Average CO2.1':'Average CO2 ZZ',\n",
    "               'STDP CO2.1':'STDP CO2 ZZ','Average CO2.2':'Average CO2 MM','STDP CO2.2':'STDP CO2 MM'}\n",
    "\n",
    "co2_graph_df.rename(columns=rename_dict, inplace=True)"
   ]
  },
  {
   "cell_type": "code",
   "execution_count": null,
   "id": "5b85ee15",
   "metadata": {},
   "outputs": [],
   "source": [
    "# Check your dataframe\n",
    "co2_graph_df"
   ]
  },
  {
   "cell_type": "markdown",
   "id": "8cc1a787",
   "metadata": {},
   "source": [
    "### 3.7) Read in CH4 data"
   ]
  },
  {
   "cell_type": "code",
   "execution_count": null,
   "id": "b33bb903",
   "metadata": {},
   "outputs": [],
   "source": [
    "# Read in the biomass data, (\"skiprows\" ->drop the first two rows, and the third one; no combined header)\n",
    "ch4_df = pd.read_excel(pathin, sheet_name='Sheet21', skiprows=[0,1,3], header=[0])"
   ]
  },
  {
   "cell_type": "code",
   "execution_count": null,
   "id": "540ba10e",
   "metadata": {},
   "outputs": [],
   "source": [
    "# Check your dataframe\n",
    "ch4_df"
   ]
  },
  {
   "cell_type": "markdown",
   "id": "f90fc637",
   "metadata": {},
   "source": [
    "### 3.8) Extract out CH4 data that we want to graph\n",
    "\n",
    "Average and STDP columns for the three microbes ($\\Delta$ H, ZZ, MM)"
   ]
  },
  {
   "cell_type": "code",
   "execution_count": null,
   "id": "90358cf3",
   "metadata": {},
   "outputs": [],
   "source": [
    "# Note the different quotations\n",
    "columns_to_copy = ['Elasped Days','Average CH4','STDP CH4','Average CH4.1','STDP CH4.1','Average CH4.2','STDP CH4.2']\n",
    "ch4_graph_df = ch4_df[columns_to_copy].iloc[:9].copy() # select the rows with .iloc"
   ]
  },
  {
   "cell_type": "code",
   "execution_count": null,
   "id": "b5ddfb6b",
   "metadata": {},
   "outputs": [],
   "source": [
    "# Rename the columns using a dictionary to add the microbe ID (oldname:newname)\n",
    "rename_dict = {'Average CH4':'Average CH4 DH','STDP CH4':'STDP CH4 DH','Average CH4.1':'Average CH4 ZZ',\n",
    "               'STDP CH4.1':'STDP CH4 ZZ','Average CH4.2':'Average CH4 MM','STDP CH4.2':'STDP CH4 MM'}\n",
    "\n",
    "ch4_graph_df.rename(columns=rename_dict, inplace=True)"
   ]
  },
  {
   "cell_type": "code",
   "execution_count": null,
   "id": "22eb81a0",
   "metadata": {},
   "outputs": [],
   "source": [
    "ch4_graph_df"
   ]
  },
  {
   "cell_type": "markdown",
   "id": "9f3d77df",
   "metadata": {},
   "source": [
    "## 4) Graph strain ZZ data on a single graph, with multiple axes"
   ]
  },
  {
   "cell_type": "code",
   "execution_count": null,
   "id": "4a8d8135",
   "metadata": {},
   "outputs": [],
   "source": [
    "# Define some graph parameters\n",
    "\n",
    "# Colors for each compound\n",
    "color_gcdw = \"#00bb3e\"\n",
    "color_h2 = \"#00a0a0\"\n",
    "color_co2 = \"#3678fb\"\n",
    "color_ch4 = \"#fc0966\""
   ]
  },
  {
   "cell_type": "markdown",
   "id": "6ca52dbc",
   "metadata": {},
   "source": [
    "### 4.1) Start with biomass data"
   ]
  },
  {
   "cell_type": "code",
   "execution_count": null,
   "id": "fba77ad6",
   "metadata": {},
   "outputs": [],
   "source": [
    "# Print the columns\n",
    "gcdw_graph_df.columns"
   ]
  },
  {
   "cell_type": "code",
   "execution_count": null,
   "id": "3bccdcdd",
   "metadata": {},
   "outputs": [],
   "source": [
    "# Graph\n",
    "# Create the figure\n",
    "fig, ax1 = plt.subplots(figsize=(8, 5))  # set the figure dimensions inches\n",
    "\n",
    "#-----------------------------------------------------------------------------------\n",
    "# Plot Strain ZZ (gCDW) with error bars\n",
    "ax1.errorbar(gcdw_graph_df[('Reactor','Elasped Days')], gcdw_graph_df[('ZZAVG','gCDW')], yerr=gcdw_graph_df[('ZZSTD','gCDW')], \n",
    "             color=color_gcdw, label=\"gDCW\", marker='o', markersize=4, \n",
    "             linewidth=1, linestyle='-', capsize=3)\n",
    "\n",
    "#-----------------------------------------------------------------------------------\n",
    "# Remove errorbar handles from the legend by plotting invisible points for legend only\n",
    "handles, labels = ax1.get_legend_handles_labels()\n",
    "ax1.legend([plt.Line2D([0], [0], color=color_gcdw, marker='o', linestyle='', linewidth=1, markersize=4)],\n",
    "           [\"gDCW\"])\n",
    "\n",
    "#-----------------------------------------------------------------------------------\n",
    "# Add grid\n",
    "ax1.grid(True, which='both', linestyle='--', linewidth=0.5, alpha=0.7)\n",
    "\n",
    "# Set axes labels and colors\n",
    "ax1.set_xlabel(\"Time [d]\")\n",
    "\n",
    "# Label the first y-axis\n",
    "ax1.set_ylabel(\"gDCW\", color=color_gcdw)\n",
    "ax1.tick_params(axis='y', labelcolor=color_gcdw)\n",
    "#--------------------------------------------------------------------------------------\n",
    "# Add a title\n",
    "ax1.set_title(\"Average Biomass\")\n",
    "\n",
    "# Clean up the layout\n",
    "fig.tight_layout()\n",
    "\n",
    "# Show the plot\n",
    "plt.show()\n"
   ]
  },
  {
   "cell_type": "markdown",
   "id": "d192fc47",
   "metadata": {},
   "source": [
    "### 4.2) Add in CO2 on a second axis"
   ]
  },
  {
   "cell_type": "code",
   "execution_count": null,
   "id": "25110a16",
   "metadata": {},
   "outputs": [],
   "source": [
    "co2_graph_df.columns"
   ]
  },
  {
   "cell_type": "code",
   "execution_count": null,
   "id": "8fa2f525",
   "metadata": {},
   "outputs": [],
   "source": [
    "# Graph\n",
    "# Create the figure\n",
    "fig, ax1 = plt.subplots(figsize=(8, 5))  # set the figure dimensions inches\n",
    "\n",
    "#-----------------------------------------------------------------------------------\n",
    "# Plot Strain ZZ gCDW with error bars\n",
    "ax1.errorbar(gcdw_graph_df[('Reactor','Elasped Days')], gcdw_graph_df[('ZZAVG','gCDW')], yerr=gcdw_graph_df[('ZZSTD','gCDW')], \n",
    "             color=color_gcdw, label=\"gDCW\", marker='o', markersize=4, \n",
    "             linewidth=1, linestyle='-', capsize=3)\n",
    "\n",
    "#-----------------------------------------------------------------------------------\n",
    "# Plot CO2\n",
    "\n",
    "# Create second y-axis\n",
    "ax2 = ax1.twinx()\n",
    "\n",
    "# Plot Strain ZZ CO2 with error bars\n",
    "ax2.errorbar(co2_graph_df['Elasped Days'], co2_graph_df['Average CO2 ZZ'], yerr=co2_graph_df['STDP CO2 ZZ'], \n",
    "             color=color_co2, label=\"CO2\", marker='x', markersize=4, \n",
    "             linewidth=1, linestyle='-', capsize=3)\n",
    "\n",
    "#-----------------------------------------------------------------------------------\n",
    "# Legend\n",
    "# Manually create legend handles for both datasets\n",
    "gcdw_handle = plt.Line2D([0], [0], color=color_gcdw, marker='o', linestyle='', linewidth=1, markersize=4)\n",
    "co2_handle = plt.Line2D([0], [0], color=color_co2, marker='x', linestyle='', linewidth=1, markersize=4)\n",
    "\n",
    "ax1.legend([gcdw_handle, co2_handle], [\"gDCW\", \"CO2\"],loc=\"lower right\")\n",
    "#-----------------------------------------------------------------------------------\n",
    "\n",
    "# Add grid\n",
    "ax1.grid(True, which='both', linestyle='--', linewidth=0.5, alpha=0.7)\n",
    "\n",
    "\n",
    "# Set axes labels and colors\n",
    "ax1.set_xlabel(\"Time [d]\")\n",
    "\n",
    "# Label the first y-axis\n",
    "ax1.set_ylabel(\"gDCW\", color=color_gcdw)\n",
    "ax1.tick_params(axis='y', labelcolor=color_gcdw)\n",
    "\n",
    "# # Label the second y-axis\n",
    "ax2.set_ylabel(\"CO$_{2}$ [mmol/g/h]\", color=color_co2)\n",
    "ax2.tick_params(axis='y', labelcolor=color_co2)\n",
    "#--------------------------------------------------------------------------------------\n",
    "# Add a title\n",
    "ax1.set_title(\"Average Specific Uptake and Production Rates\")\n",
    "\n",
    "# Clean up the layout\n",
    "fig.tight_layout()\n",
    "\n",
    "# Show the plot\n",
    "plt.show()\n"
   ]
  },
  {
   "cell_type": "markdown",
   "id": "7211880b",
   "metadata": {},
   "source": [
    "### 4.3) Add CH4 on a third axis"
   ]
  },
  {
   "cell_type": "code",
   "execution_count": null,
   "id": "6c742993",
   "metadata": {},
   "outputs": [],
   "source": [
    "# Graph\n",
    "# Create the figure\n",
    "fig, ax1 = plt.subplots(figsize=(8, 5))  # set the figure dimensions inches\n",
    "\n",
    "#-----------------------------------------------------------------------------------\n",
    "# Plot Strain ZZ gCDW with error bars\n",
    "ax1.errorbar(gcdw_graph_df[('Reactor','Elasped Days')], gcdw_graph_df[('ZZAVG','gCDW')], yerr=gcdw_graph_df[('ZZSTD','gCDW')], \n",
    "             color=color_gcdw, label=\"gDCW\", marker='o', markersize=4, \n",
    "             linewidth=1, linestyle='-', capsize=3)\n",
    "\n",
    "#-----------------------------------------------------------------------------------\n",
    "# Plot CO2\n",
    "# Create second y-axis\n",
    "ax2 = ax1.twinx()\n",
    "\n",
    "# Plot Strain ZZ CO2 with error bars\n",
    "ax2.errorbar(co2_graph_df['Elasped Days'], co2_graph_df['Average CO2 ZZ'], yerr=co2_graph_df['STDP CO2 ZZ'], \n",
    "             color=color_co2, label=\"CO2\", marker='x', markersize=4, \n",
    "             linewidth=1, linestyle='-', capsize=3)\n",
    "#-----------------------------------------------------------------------------------\n",
    "# Plot CH4\n",
    "# Create a third y-axis\n",
    "ax3 = ax1.twinx()\n",
    "ax3.spines['right'].set_position(('outward', 60))  # Offset the third axis\n",
    "\n",
    "\n",
    "ax3.errorbar(ch4_graph_df['Elasped Days'], ch4_graph_df['Average CH4 ZZ'], yerr=ch4_graph_df['STDP CH4 ZZ'], \n",
    "             color=color_ch4, label=\"CH4\", marker='v', markersize=4, \n",
    "             linewidth=1, linestyle='-', capsize=3)\n",
    "\n",
    "#-----------------------------------------------------------------------------------\n",
    "# Legend\n",
    "# Manually create legend handles for both datasets\n",
    "gcdw_handle = plt.Line2D([0], [0], color=color_gcdw, marker='o', linestyle='', linewidth=1, markersize=4)\n",
    "co2_handle = plt.Line2D([0], [0], color=color_co2, marker='x', linestyle='', linewidth=1, markersize=4)\n",
    "ch4_handle = plt.Line2D([0], [0], color=color_ch4, marker='v', linestyle='', linewidth=1, markersize=4)\n",
    "\n",
    "ax1.legend([gcdw_handle, co2_handle,ch4_handle], [\"gDCW\", \"CO2\",\"CH4\"],loc='upper left')\n",
    "#-----------------------------------------------------------------------------------\n",
    "\n",
    "# Add grid\n",
    "ax1.grid(True, which='both', linestyle='--', linewidth=0.5, alpha=0.7)\n",
    "\n",
    "# Set axes labels and colors\n",
    "ax1.set_xlabel(\"Time [d]\")\n",
    "\n",
    "# Label the first y-axis\n",
    "ax1.set_ylabel(\"gDCW\", color=color_gcdw)\n",
    "ax1.tick_params(axis='y', labelcolor=color_gcdw)\n",
    "\n",
    "# # Label the second y-axis\n",
    "ax2.set_ylabel(\"CO$_{2}$ [mmol/g/h]\", color=color_co2)\n",
    "ax2.tick_params(axis='y', labelcolor=color_co2)\n",
    "\n",
    "# Label the third y-axis\n",
    "ax3.set_ylabel(\"CH$_{4}$ [mmol/g/h]\", color=color_ch4)\n",
    "ax3.tick_params(axis='y', labelcolor=color_ch4)\n",
    "#--------------------------------------------------------------------------------------\n",
    "# Add a title\n",
    "ax1.set_title(\"Average Specific Uptake and Production Rates\")\n",
    "\n",
    "# Clean up the layout\n",
    "fig.tight_layout()\n",
    "\n",
    "# Show the plot\n",
    "plt.show()\n"
   ]
  },
  {
   "cell_type": "markdown",
   "id": "dbaa6585",
   "metadata": {},
   "source": [
    "### 4.4) Add H2 on a fourth axis"
   ]
  },
  {
   "cell_type": "code",
   "execution_count": null,
   "id": "e1db551e",
   "metadata": {},
   "outputs": [],
   "source": [
    "# Graph\n",
    "# Create the figure\n",
    "fig, ax1 = plt.subplots(figsize=(8, 5))  # set the figure dimensions inches\n",
    "\n",
    "#-----------------------------------------------------------------------------------\n",
    "# Plot Strain ZZ gCDW with error bars\n",
    "ax1.errorbar(gcdw_graph_df[('Reactor','Elasped Days')], gcdw_graph_df[('ZZAVG','gCDW')], yerr=gcdw_graph_df[('ZZSTD','gCDW')], \n",
    "             color=color_gcdw, label=\"gDCW\", marker='o', markersize=4, \n",
    "             linewidth=1, linestyle='-', capsize=3)\n",
    "\n",
    "#-----------------------------------------------------------------------------------\n",
    "# Plot CO2\n",
    "# Create second y-axis\n",
    "ax2 = ax1.twinx()\n",
    "\n",
    "# Plot Strain ZZ CO2 with error bars\n",
    "ax2.errorbar(co2_graph_df['Elasped Days'], co2_graph_df['Average CO2 ZZ'], yerr=co2_graph_df['STDP CO2 ZZ'], \n",
    "             color=color_co2, label=\"CO2\", marker='x', markersize=4, \n",
    "             linewidth=1, linestyle='-', capsize=3)\n",
    "#-----------------------------------------------------------------------------------\n",
    "# Plot CH4\n",
    "# Create a third y-axis\n",
    "ax3 = ax1.twinx()\n",
    "ax3.spines['right'].set_position(('outward', 60))  # Offset the third axis\n",
    "\n",
    "\n",
    "ax3.errorbar(ch4_graph_df['Elasped Days'], ch4_graph_df['Average CH4 ZZ'], yerr=ch4_graph_df['STDP CH4 ZZ'], \n",
    "             color=color_ch4, label=\"CH4\", marker='v', markersize=4, \n",
    "             linewidth=1, linestyle='-', capsize=3)\n",
    "\n",
    "#-----------------------------------------------------------------------------------\n",
    "# Plot H2\n",
    "# Create a fourth y-axis\n",
    "ax4 = ax1.twinx()\n",
    "ax4.spines['left'].set_position(('outward', 60))  # Offset the third axis\n",
    "ax4.yaxis.set_label_position('left')\n",
    "ax4.yaxis.set_ticks_position('left')\n",
    "\n",
    "ax4.errorbar(h2_graph_df['Elasped Days'], h2_graph_df['Average H2 ZZ'], yerr=h2_graph_df['STDP H2 ZZ'], \n",
    "             color=color_h2, label=\"H2\", marker='s', markersize=4, \n",
    "             linewidth=1, linestyle='-', capsize=3)\n",
    "#-----------------------------------------------------------------------------------\n",
    "# Legend\n",
    "# Manually create legend handles for both datasets\n",
    "gcdw_handle = plt.Line2D([0], [0], color=color_gcdw, marker='o', linestyle='', linewidth=1, markersize=4)\n",
    "co2_handle = plt.Line2D([0], [0], color=color_co2, marker='x', linestyle='', linewidth=1, markersize=4)\n",
    "ch4_handle = plt.Line2D([0], [0], color=color_ch4, marker='v', linestyle='', linewidth=1, markersize=4)\n",
    "h2_handle = plt.Line2D([0], [0], color=color_h2, marker='s', linestyle='', linewidth=1, markersize=4)\n",
    "\n",
    "\n",
    "ax1.legend([gcdw_handle, co2_handle,ch4_handle,h2_handle], [\"gDCW\", \"CO2\",\"CH4\",\"H2\"],loc='lower right',framealpha=1)\n",
    "#-----------------------------------------------------------------------------------\n",
    "# Add grid\n",
    "ax1.grid(True, which='both', linestyle='--', linewidth=0.5, alpha=0.7)\n",
    "\n",
    "\n",
    "# Set axes labels and colors\n",
    "ax1.set_xlabel(\"Time [d]\")\n",
    "\n",
    "# Label the first y-axis\n",
    "ax1.set_ylabel(\"gDCW\", color=color_gcdw)\n",
    "ax1.tick_params(axis='y', labelcolor=color_gcdw)\n",
    "\n",
    "# # Label the second y-axis\n",
    "ax2.set_ylabel(\"CO$_{2}$ [mmol/g/h]\", color=color_co2)\n",
    "ax2.tick_params(axis='y', labelcolor=color_co2)\n",
    "\n",
    "# Label the third y-axis\n",
    "ax3.set_ylabel(\"CH$_{4}$ [mmol/g/h]\", color=color_ch4)\n",
    "ax3.tick_params(axis='y', labelcolor=color_ch4)\n",
    "\n",
    "# Label the fourth y-axis\n",
    "ax4.set_ylabel(\"H$_{2}$ [mmol/g/h]\", color=color_h2)\n",
    "ax4.tick_params(axis='y', labelcolor=color_h2)\n",
    "\n",
    "#--------------------------------------------------------------------------------------\n",
    "# Add a title\n",
    "ax1.set_title(\"Average Specific Uptake and Production Rates\")\n",
    "\n",
    "# Clean up the layout\n",
    "fig.tight_layout()\n",
    "\n",
    "# Show the plot\n",
    "plt.show()\n"
   ]
  },
  {
   "cell_type": "markdown",
   "id": "76e52945",
   "metadata": {},
   "source": [
    "## 5) Graph using a different style error bar - error bands.\n",
    "\n",
    "__Note1: This type of graph requires numpy numbers (*e.g.* np.float64), so we need to convert out datatypes__"
   ]
  },
  {
   "cell_type": "code",
   "execution_count": null,
   "id": "19bd006e",
   "metadata": {},
   "outputs": [],
   "source": [
    "# Create the figure\n",
    "fig, ax1 = plt.subplots(figsize=(8, 5))  # inches\n",
    "\n",
    "#-----------------------------------------------------------------------------------\n",
    "# Plot Biomass with error band\n",
    "ax1.plot(gcdw_graph_df[('Reactor','Elasped Days')], gcdw_graph_df[('ZZAVG','gCDW')], \n",
    "             color=color_gcdw, label=\"gDCW\", marker='o', markersize=4, \n",
    "             linewidth=1, linestyle='-')\n",
    "\n",
    "# CONVERT TO NUMPY FLOAT (each time for the bands)\n",
    "ax1.fill_between(np.float64(gcdw_graph_df[('Reactor','Elasped Days')]),\n",
    "                 np.float64(gcdw_graph_df[('ZZAVG','gCDW')] - gcdw_graph_df[('ZZSTD','gCDW')]),\n",
    "                 np.float64(gcdw_graph_df[('ZZAVG','gCDW')] + gcdw_graph_df[('ZZSTD','gCDW')]),\n",
    "                 color=color_gcdw, alpha=0.2)\n",
    "#----------------------------------------------------------------\n",
    "# Plot CO2 with error band\n",
    "\n",
    "# Create second y-axis\n",
    "ax2 = ax1.twinx()\n",
    "\n",
    "ax2.plot(co2_graph_df['Elasped Days'], co2_graph_df['Average CO2 ZZ'], \n",
    "             color=color_co2, label=\"CO2\", marker='x', markersize=4, \n",
    "             linewidth=1, linestyle='-')\n",
    "\n",
    "ax2.fill_between(np.float64(co2_graph_df['Elasped Days']),\n",
    "                 np.float64(co2_graph_df['Average CO2 ZZ'] - co2_graph_df['STDP CO2 ZZ']),\n",
    "                 np.float64(co2_graph_df['Average CO2 ZZ'] + co2_graph_df['STDP CO2 ZZ']),\n",
    "                 color=color_co2, alpha=0.2)\n",
    "#----------------------------------------------------------------\n",
    "# Plot CH4 with error band\n",
    "\n",
    "# Create third y-axis\n",
    "ax3 = ax1.twinx()\n",
    "ax3.spines['right'].set_position(('outward', 60))  # Offset the third axis\n",
    "\n",
    "ax3.plot(ch4_graph_df['Elasped Days'], ch4_graph_df['Average CH4 ZZ'], \n",
    "             color=color_ch4, label=\"CH4\", marker='v', markersize=4, \n",
    "             linewidth=1, linestyle='-')\n",
    "\n",
    "ax3.fill_between(np.float64(ch4_graph_df['Elasped Days']),\n",
    "                 np.float64(ch4_graph_df['Average CH4 ZZ'] - ch4_graph_df['STDP CH4 ZZ']),\n",
    "                 np.float64(ch4_graph_df['Average CH4 ZZ'] + ch4_graph_df['STDP CH4 ZZ']),\n",
    "                 color=color_ch4, alpha=0.2)\n",
    "#-----------------------------------------------------------------------------------\n",
    "# Plot H2 with error band\n",
    "\n",
    "# Create fourth y-axis\n",
    "ax4 = ax1.twinx()\n",
    "ax4.spines['left'].set_position(('outward', 60))  # Offset the fourth axis\n",
    "ax4.yaxis.set_label_position('left')\n",
    "ax4.yaxis.set_ticks_position('left')\n",
    "\n",
    "ax4.plot(h2_graph_df['Elasped Days'], h2_graph_df['Average H2 ZZ'], \n",
    "             color=color_h2, label=\"H2\", marker='s', markersize=4, \n",
    "             linewidth=1, linestyle='-')\n",
    "\n",
    "ax4.fill_between(np.float64(h2_graph_df['Elasped Days']),\n",
    "                 np.float64(h2_graph_df['Average H2 ZZ'] - h2_graph_df['STDP H2 ZZ']),\n",
    "                 np.float64(h2_graph_df['Average H2 ZZ'] + h2_graph_df['STDP H2 ZZ']),\n",
    "                 color=color_h2, alpha=0.2)\n",
    "#-----------------------------------------------------------------------------------\n",
    "# Legend\n",
    "# Manually create legend handles for both datasets\n",
    "gcdw_handle = plt.Line2D([0], [0], color=color_gcdw, marker='o', linestyle='', linewidth=1, markersize=4)\n",
    "co2_handle = plt.Line2D([0], [0], color=color_co2, marker='x', linestyle='', linewidth=1, markersize=4)\n",
    "ch4_handle = plt.Line2D([0], [0], color=color_ch4, marker='v', linestyle='', linewidth=1, markersize=4)\n",
    "h2_handle = plt.Line2D([0], [0], color=color_h2, marker='s', linestyle='', linewidth=1, markersize=4)\n",
    "\n",
    "\n",
    "ax1.legend([gcdw_handle, co2_handle,ch4_handle,h2_handle], [\"gDCW\", \"CO2\",\"CH4\",\"H2\"],loc='lower right',framealpha=1)\n",
    "#-----------------------------------------------------------------------------------\n",
    "# Add grid\n",
    "ax1.grid(True, which='both', linestyle='--', linewidth=0.5, alpha=0.7)\n",
    "\n",
    "\n",
    "# Set axes labels and colors\n",
    "ax1.set_xlabel(\"Time [d]\")\n",
    "\n",
    "# Label the first y-axis\n",
    "ax1.set_ylabel(\"gDCW\", color=color_gcdw)\n",
    "ax1.tick_params(axis='y', labelcolor=color_gcdw)\n",
    "\n",
    "# # Label the second y-axis\n",
    "ax2.set_ylabel(\"CO$_{2}$ [mmol/g/h]\", color=color_co2)\n",
    "ax2.tick_params(axis='y', labelcolor=color_co2)\n",
    "\n",
    "# Label the third y-axis\n",
    "ax3.set_ylabel(\"CH$_{4}$ [mmol/g/h]\", color=color_ch4)\n",
    "ax3.tick_params(axis='y', labelcolor=color_ch4)\n",
    "\n",
    "# Label the fourth y-axis\n",
    "ax4.set_ylabel(\"H$_{2}$ [mmol/g/h]\", color=color_h2)\n",
    "ax4.tick_params(axis='y', labelcolor=color_h2)\n",
    "\n",
    "#--------------------------------------------------------------------------------------\n",
    "# Add a title\n",
    "ax1.set_title(\"Average Specific Uptake and Production Rates\")\n",
    "\n",
    "# Clean up the layout\n",
    "fig.tight_layout()\n",
    "\n",
    "# Save the figure\n",
    "# Give a file location and name and extension (.svg) --> Change yours (this is for my system)\n",
    "pathout = r\"C:\\Users\\uqicasin\\Documents\\Teaching\\Program_Workshop\\Uptake_Production_figure.svg\"\n",
    "fig.savefig(pathout, dpi=300, bbox_inches='tight') # give the resolution\n",
    "\n",
    "\n",
    "# Show the plot\n",
    "plt.show()\n"
   ]
  }
 ],
 "metadata": {
  "kernelspec": {
   "display_name": "biotech",
   "language": "python",
   "name": "python3"
  },
  "language_info": {
   "codemirror_mode": {
    "name": "ipython",
    "version": 3
   },
   "file_extension": ".py",
   "mimetype": "text/x-python",
   "name": "python",
   "nbconvert_exporter": "python",
   "pygments_lexer": "ipython3",
   "version": "3.9.21"
  }
 },
 "nbformat": 4,
 "nbformat_minor": 5
}
