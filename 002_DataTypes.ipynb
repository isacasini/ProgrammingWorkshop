{
 "cells": [
  {
   "cell_type": "markdown",
   "metadata": {},
   "source": [
    "# Introduction to Python Data Types\n",
    "\n",
    "In this tutorial, you will be walked through different data types that are typically used in Python. You will be introduced to the \"print\" function that can be used to display designated information. You will also be introduced to the \"type\" function that will help you determine what data type a variable/object is.\n",
    "\n",
    "__Important notes on variables__:\n",
    "1) You use variables to store objects or information\n",
    "2) Python is case-sensitive. \"bioreactor\" is different from \"Bioreactor\"\n",
    "3) You can only name variables with alpha-numeric characters and underscores. But they cannot <ins>start</ins> with a number.\n",
    "4) There are some keywords in Python, that have fixed functions, you cannot use those either for variable names. https://www.w3schools.com/python/python_ref_keywords.asp\n",
    "\n",
    "__Important other notes__:\n",
    "1) Python \"indexes\" (starts counting) at 0 (not at 1)\n",
    "2) There are markdown cells, like this one, which are written in markdown, not in Python.\n",
    "3) If you want a line not to be read (as code), you write a pound symbol (#) in front. This can \"comment\" out the entire line, or be used mid line.\n",
    "4) You can comment out a line(s) using Ctrl + / (Windows)\n",
    "\n",
    "*Last edited: Isabella Casini, Subaru Muroi, Haxby Hefford 24.04.2025*"
   ]
  },
  {
   "cell_type": "code",
   "execution_count": 1,
   "metadata": {},
   "outputs": [],
   "source": [
    "# import relevant packages (entire line is commented out)\n",
    "\n",
    "import pandas as pd # call pandas \"pd\" for short (midline comment)\n",
    "import numpy as np"
   ]
  },
  {
   "cell_type": "markdown",
   "metadata": {},
   "source": [
    "# 1. Text types\n",
    "Strings:\n",
    "In Python, strings are denoted with single or double quotations, ' or \" on either side of the text."
   ]
  },
  {
   "cell_type": "code",
   "execution_count": 2,
   "metadata": {},
   "outputs": [],
   "source": [
    "# strings\n",
    "string_ex = \"Bioreactor 1\"\n",
    "string_ex2 = 'Bioreactor 2'"
   ]
  },
  {
   "cell_type": "code",
   "execution_count": 3,
   "metadata": {},
   "outputs": [
    {
     "name": "stdout",
     "output_type": "stream",
     "text": [
      "Bioreactor 1\n",
      "string_ex2 Bioreactor 2\n"
     ]
    }
   ],
   "source": [
    "# diplay the output using the print function\n",
    "print(string_ex)\n",
    "print(\"string_ex2\", string_ex2)"
   ]
  },
  {
   "cell_type": "code",
   "execution_count": 4,
   "metadata": {},
   "outputs": [
    {
     "name": "stdout",
     "output_type": "stream",
     "text": [
      "string_ex data type <class 'str'>\n",
      "string_ex data type: <class 'str'>\n"
     ]
    }
   ],
   "source": [
    "# Check the type of the data using the type function\n",
    "type_string_ex = type(string_ex)\n",
    "\n",
    "print(\"string_ex data type\", type_string_ex)\n",
    "\n",
    "# print using a different method\n",
    "print(f\"string_ex data type: {type(string_ex)}\")"
   ]
  },
  {
   "cell_type": "code",
   "execution_count": 5,
   "metadata": {},
   "outputs": [
    {
     "name": "stdout",
     "output_type": "stream",
     "text": [
      "\n",
      "New Line \n",
      "New line and \t a tab\n"
     ]
    }
   ],
   "source": [
    "# When working with strings, \"\\n\" and \"\\t\" add a new line and a tab, respectively\n",
    "# These are useful when formatting and view strings\n",
    "print(\"\\nNew Line \\nNew line and \\t a tab\")"
   ]
  },
  {
   "cell_type": "markdown",
   "metadata": {},
   "source": [
    "# 2. Numeric Types\n",
    "\n",
    "Intergers are whole numbers - no decimal or fraction (e.g., -1, 0, 1), floats  have a decimal (even if it is just for precision) or are a fraction (e.g., -1.0, 0.0, 1.0).\n",
    "\n",
    "Python has a built-in integer, int. The numpy package also provides two types of integers: int32 and int64 for 32 and 64 bits per integer, respectively.\n",
    "\n",
    "Python has a built-in float, float. The numpy package also provides two types of floats: float32 and float64 for 32 and 64 bits per integer, respectively.\n",
    "\n",
    "Some packages are written expecting a certain type of integer or float and will give an error if they receive a nonexpected format."
   ]
  },
  {
   "cell_type": "code",
   "execution_count": 6,
   "metadata": {},
   "outputs": [
    {
     "name": "stdout",
     "output_type": "stream",
     "text": [
      "'a'= 7, data type: <class 'int'>\n",
      "'b'= 7.0, data type: <class 'float'>\n",
      "'b2'= 7.5, data type: <class 'float'>\n",
      "'a2'= 7, data type: <class 'int'>\n",
      "'a3'= 7, data type: <class 'numpy.int32'>\n",
      "'a4'= 7, data type: <class 'numpy.int64'>\n",
      "'a5'= 7, data type: <class 'numpy.int64'>\n"
     ]
    }
   ],
   "source": [
    "# directly set a value to an integer\n",
    "a = 7\n",
    "\n",
    "# directly set a value to a float \n",
    "b = 7.0\n",
    "b2 = 7.5\n",
    "\n",
    "print(f\"'a'= {a}, data type: {type(a)}\")\n",
    "print(f\"'b'= {b}, data type: {type(b)}\")\n",
    "print(f\"'b2'= {b2}, data type: {type(b2)}\")\n",
    "\n",
    "# Convert the values (a float) into an integer\n",
    "a2 = int(b)\n",
    "a3= np.int32(b)\n",
    "a4 = np.int64(b)\n",
    "a5 = np.int64(b2)\n",
    "\n",
    "print(f\"'a2'= {a2}, data type: {type(a2)}\")\n",
    "print(f\"'a3'= {a3}, data type: {type(a3)}\")\n",
    "print(f\"'a4'= {a4}, data type: {type(a4)}\")\n",
    "print(f\"'a5'= {a5}, data type: {type(a5)}\")\n"
   ]
  },
  {
   "cell_type": "markdown",
   "metadata": {},
   "source": [
    "## Exercise 1: Combine into one variable the variable 'string_ex' and 'b2'"
   ]
  },
  {
   "cell_type": "code",
   "execution_count": 7,
   "metadata": {},
   "outputs": [
    {
     "ename": "TypeError",
     "evalue": "unsupported operand type(s) for +: 'float' and 'str'",
     "output_type": "error",
     "traceback": [
      "\u001b[1;31m---------------------------------------------------------------------------\u001b[0m",
      "\u001b[1;31mTypeError\u001b[0m                                 Traceback (most recent call last)",
      "Cell \u001b[1;32mIn[7], line 2\u001b[0m\n\u001b[0;32m      1\u001b[0m \u001b[38;5;66;03m# Example\u001b[39;00m\n\u001b[1;32m----> 2\u001b[0m concat \u001b[38;5;241m=\u001b[39m \u001b[43mb2\u001b[49m\u001b[43m \u001b[49m\u001b[38;5;241;43m+\u001b[39;49m\u001b[43m \u001b[49m\u001b[43mstring_ex\u001b[49m\n\u001b[0;32m      4\u001b[0m \u001b[38;5;66;03m# What should we do to fix this error?\u001b[39;00m\n",
      "\u001b[1;31mTypeError\u001b[0m: unsupported operand type(s) for +: 'float' and 'str'"
     ]
    }
   ],
   "source": [
    "# Example\n",
    "concat = b2 + string_ex\n",
    "\n",
    "# What should we do to fix this error?"
   ]
  },
  {
   "cell_type": "markdown",
   "metadata": {},
   "source": [
    "# 3. Boolean Types\n",
    "\n",
    "Booleans include \"True\" and \"False\" and they can be combined with operators (e.g., \"and\", \"or\", \"not\", \"==\", \"!=\") to create expressions."
   ]
  },
  {
   "cell_type": "code",
   "execution_count": 8,
   "metadata": {},
   "outputs": [
    {
     "name": "stdout",
     "output_type": "stream",
     "text": [
      "Does 'a' equal 'b'?  True\n",
      "Is 'b' greater than 'b2'?  False\n"
     ]
    }
   ],
   "source": [
    "# You can assess numeric statements\n",
    "print(\"Does 'a' equal 'b'? \", a==b)\n",
    "\n",
    "print(\"Is 'b' greater than 'b2'? \", b>b2)"
   ]
  },
  {
   "cell_type": "code",
   "execution_count": 9,
   "metadata": {},
   "outputs": [
    {
     "name": "stdout",
     "output_type": "stream",
     "text": [
      "Is this string: 'Bioreactor 1' the same as this string 'Bioreactor 2'? False\n"
     ]
    }
   ],
   "source": [
    "# You can assess string statements\n",
    "# Check if the two strings are the same\n",
    "print(f\"Is this string: '{string_ex}' the same as this string '{string_ex2}'? {string_ex==string_ex2}\")"
   ]
  },
  {
   "cell_type": "code",
   "execution_count": 10,
   "metadata": {},
   "outputs": [
    {
     "name": "stdout",
     "output_type": "stream",
     "text": [
      "Is our partial string 'Bioreactor' in 'Bioreactor 1': True\n"
     ]
    }
   ],
   "source": [
    "# Check if a partial string in another string\n",
    "partial_str = \"Bioreactor\"\n",
    "\n",
    "print(f\"Is our partial string '{partial_str}' in '{string_ex}': {partial_str in string_ex}\")"
   ]
  },
  {
   "cell_type": "markdown",
   "metadata": {},
   "source": [
    "# 4. Sequence Types\n",
    "\n",
    "Sequence types are used to store multiple items. Their order matters. They includes lists, tuples, and ranges. We'll focus on lists for now. Lists are structured with [ ] and comma to separate entries.\n",
    "\n",
    "We can:\n",
    "1) Add and remove items from lists\n",
    "2) Extract data from lists\n"
   ]
  },
  {
   "cell_type": "code",
   "execution_count": 11,
   "metadata": {},
   "outputs": [
    {
     "name": "stdout",
     "output_type": "stream",
     "text": [
      "'list1' ([]) data type: <class 'list'>\n"
     ]
    }
   ],
   "source": [
    "# Create or initialize a list\n",
    "list1 = [] # this is an empty list\n",
    "\n",
    "print(f\"'list1' ({list1}) data type: {type(list1)}\")\n"
   ]
  },
  {
   "cell_type": "code",
   "execution_count": 12,
   "metadata": {},
   "outputs": [
    {
     "name": "stdout",
     "output_type": "stream",
     "text": [
      "'list2' (['a', 'b', 'c']) data type: <class 'list'>\n",
      "'list3' ([1, 2, 3]) data type: <class 'list'>\n"
     ]
    }
   ],
   "source": [
    "# Create a list with values\n",
    "\n",
    "list2 = ['a', 'b', 'c'] # this is a list of strings\n",
    "list3 = [1,2,3] # this is a list of integers\n",
    "\n",
    "print(f\"'list2' ({list2}) data type: {type(list2)}\")\n",
    "print(f\"'list3' ({list3}) data type: {type(list3)}\")"
   ]
  },
  {
   "cell_type": "code",
   "execution_count": 13,
   "metadata": {},
   "outputs": [
    {
     "name": "stdout",
     "output_type": "stream",
     "text": [
      "'list2': ['a', 'b', 'c', 'd']\n",
      "'list3': [0, 1, 2, 3, 4]\n"
     ]
    }
   ],
   "source": [
    "# Add to lists and remove from lists\n",
    "list2.append('d') # adds a value to the end of the list\n",
    "list3.insert(3,4) # adds a value at the index position (position, value)\n",
    "list3.insert(0,0) # adds a value at the index position (position, value)\n",
    "\n",
    "print(f\"'list2': {list2}\")\n",
    "print(f\"'list3': {list3}\")"
   ]
  },
  {
   "cell_type": "code",
   "execution_count": 14,
   "metadata": {},
   "outputs": [
    {
     "name": "stdout",
     "output_type": "stream",
     "text": [
      "'list2': ['a', 'c', 'd']\n"
     ]
    }
   ],
   "source": [
    "# Remove specified values from lists\n",
    "list2.remove('b') # if that value is not present you will get an error\n",
    "\n",
    "print(f\"'list2': {list2}\")"
   ]
  },
  {
   "cell_type": "code",
   "execution_count": 15,
   "metadata": {},
   "outputs": [
    {
     "name": "stdout",
     "output_type": "stream",
     "text": [
      "The 3rd item (index 2) in 'list2': d\n",
      "'list2' has 3 entries\n"
     ]
    }
   ],
   "source": [
    "# Extract values of interest based of index\n",
    "print(f\"The 3rd item (index 2) in 'list2': {list2[2]}\")\n",
    "\n",
    "# Check the length of a list (how many entries it has) with the 'len()' function\n",
    "print(f\"'list2' has {len(list2)} entries\")"
   ]
  },
  {
   "cell_type": "code",
   "execution_count": 16,
   "metadata": {},
   "outputs": [
    {
     "name": "stdout",
     "output_type": "stream",
     "text": [
      "'list2': ['a', 'c', 'd', [0, 1, 2, 3, 4]]\n"
     ]
    }
   ],
   "source": [
    "# Add a list to a list\n",
    "list2.append(list3)\n",
    "\n",
    "print(f\"'list2': {list2}\")"
   ]
  },
  {
   "cell_type": "code",
   "execution_count": 17,
   "metadata": {},
   "outputs": [
    {
     "name": "stdout",
     "output_type": "stream",
     "text": [
      "The former list3, or the 4th item (index 3) in 'list2': [0, 1, 2, 3, 4]\n",
      "From the former list3, take the 2nd item (index 1): 1\n"
     ]
    }
   ],
   "source": [
    "# You should see that now you have a list within a list.\n",
    "# If you index to the list (index = 3) then you extract the full list\n",
    "# If you want to pull something out of that list, you need to index further in\n",
    "\n",
    "print(f\"The former list3, or the 4th item (index 3) in 'list2': {list2[3]}\")\n",
    "print(f\"From the former list3, take the 2nd item (index 1): {list2[3][1]}\")\n"
   ]
  },
  {
   "cell_type": "markdown",
   "metadata": {},
   "source": [
    "# 5. Mapping Type - Dictionaries\n",
    "\n",
    "Dicitionaries are also collections, they contain keys and values. You can look for values by using the key. The value can be any data type. They are structured with { } with a : to separate a key from its value, and commas to separate key:value pairs."
   ]
  },
  {
   "cell_type": "code",
   "execution_count": 18,
   "metadata": {},
   "outputs": [
    {
     "name": "stdout",
     "output_type": "stream",
     "text": [
      "The value to the key 'color2' is: orange\n"
     ]
    }
   ],
   "source": [
    "# Initalize an empty dictionary\n",
    "dict0 = {} # you can add items to this dictionary as show below\n",
    "\n",
    "# Create a dictionary with 'color1' and 'color2' as keys, and 'red' and 'orange' as the respective values\n",
    "dict1 = {'color1':'red','color2':'orange'}\n",
    "\n",
    "# Add to a dictionary\n",
    "dict1['color3'] = 'yellow'\n",
    "\n",
    "# Find a value of interest\n",
    "print(f\"The value to the key 'color2' is: {dict1['color2']}\")"
   ]
  },
  {
   "cell_type": "code",
   "execution_count": 19,
   "metadata": {},
   "outputs": [
    {
     "name": "stdout",
     "output_type": "stream",
     "text": [
      "Keys in dict1: dict_keys(['color1', 'color2', 'color3'])\n"
     ]
    }
   ],
   "source": [
    "# Extract all of the keys in a dictionary\n",
    "keys = dict1.keys()\n",
    "print(f\"Keys in dict1: {keys}\")"
   ]
  },
  {
   "cell_type": "code",
   "execution_count": 20,
   "metadata": {},
   "outputs": [
    {
     "name": "stdout",
     "output_type": "stream",
     "text": [
      "Values in dict1: dict_values(['red', 'orange', 'yellow'])\n"
     ]
    }
   ],
   "source": [
    "# Extract all of the values in a dictionary\n",
    "values = dict1.values()\n",
    "print(f\"Values in dict1: {values}\")"
   ]
  },
  {
   "cell_type": "markdown",
   "metadata": {},
   "source": [
    "## Exercise 2: What is wrong with the following code?"
   ]
  },
  {
   "cell_type": "code",
   "execution_count": 21,
   "metadata": {},
   "outputs": [
    {
     "ename": "KeyError",
     "evalue": "'color4'",
     "output_type": "error",
     "traceback": [
      "\u001b[1;31m---------------------------------------------------------------------------\u001b[0m",
      "\u001b[1;31mKeyError\u001b[0m                                  Traceback (most recent call last)",
      "Cell \u001b[1;32mIn[21], line 2\u001b[0m\n\u001b[0;32m      1\u001b[0m \u001b[38;5;66;03m# Find a value of interest from a dictionary\u001b[39;00m\n\u001b[1;32m----> 2\u001b[0m \u001b[38;5;28mprint\u001b[39m(\u001b[38;5;124mf\u001b[39m\u001b[38;5;124m\"\u001b[39m\u001b[38;5;124mThe value to the key \u001b[39m\u001b[38;5;124m'\u001b[39m\u001b[38;5;124mcolor4\u001b[39m\u001b[38;5;124m'\u001b[39m\u001b[38;5;124m is: \u001b[39m\u001b[38;5;132;01m{\u001b[39;00mdict1[\u001b[38;5;124m'\u001b[39m\u001b[38;5;124mcolor4\u001b[39m\u001b[38;5;124m'\u001b[39m]\u001b[38;5;132;01m}\u001b[39;00m\u001b[38;5;124m\"\u001b[39m)\n",
      "\u001b[1;31mKeyError\u001b[0m: 'color4'"
     ]
    }
   ],
   "source": [
    "# Find a value of interest from a dictionary\n",
    "print(f\"The value to the key 'color4' is: {dict1['color4']}\")"
   ]
  },
  {
   "cell_type": "markdown",
   "metadata": {},
   "source": [
    "# 6. Arrays with Numpy\n",
    "\n",
    "We will use Numpy for arrays. Arrays can be higher dimensional, but we'll start with 2-dimensions and create the arrays using lists.\n",
    "\n",
    "Each level of brackets [] is another dimensions."
   ]
  },
  {
   "cell_type": "code",
   "execution_count": 22,
   "metadata": {},
   "outputs": [
    {
     "name": "stdout",
     "output_type": "stream",
     "text": [
      "[[1 2 3]\n",
      " [4 5 6]]\n",
      "\n",
      "array1: \n",
      "[[1 2 3]\n",
      " [4 5 6]]\n"
     ]
    }
   ],
   "source": [
    "# Create a list of lists. The number of lists is the number of rows, and the enteries in each list are the number of columns\n",
    "\n",
    "# Make a 2 x 3 array (2 rows, 3 columns)\n",
    "list_array = [[1,2,3],[4,5,6]]\n",
    "\n",
    "# Convert that list into an array.\n",
    "array1 = np.array(list_array)\n",
    "print(array1)\n",
    "print(f\"\\narray1: \\n{array1}\")"
   ]
  },
  {
   "cell_type": "code",
   "execution_count": 23,
   "metadata": {},
   "outputs": [
    {
     "name": "stdout",
     "output_type": "stream",
     "text": [
      "\n",
      "array1 has 2 rows and 3 columns\n"
     ]
    }
   ],
   "source": [
    "# The 'shape' function will return the dimensions of the array.\n",
    "# In our 2-D case, it will return n x m number of rows[0] and columns [1], respectively\n",
    "print(f\"\\narray1 has {array1.shape[0]} rows and {array1.shape[1]} columns\")"
   ]
  },
  {
   "cell_type": "code",
   "execution_count": 24,
   "metadata": {},
   "outputs": [
    {
     "name": "stdout",
     "output_type": "stream",
     "text": [
      "[[1. 1. 1.]\n",
      " [1. 1. 1.]]\n",
      "\n",
      "sum_array: \n",
      "[[2. 3. 4.]\n",
      " [5. 6. 7.]]\n"
     ]
    }
   ],
   "source": [
    "# Perform typical matrix operations on a array\n",
    "\n",
    "# Create a 2 x 3 array of ones, using the np.ones() function\n",
    "ones_array = np.ones((2,3))\n",
    "print(ones_array)\n",
    "\n",
    "# Add the arrays together\n",
    "sum_array = array1 + ones_array\n",
    "\n",
    "print(f\"\\nsum_array: \\n{sum_array}\")"
   ]
  },
  {
   "cell_type": "code",
   "execution_count": 25,
   "metadata": {},
   "outputs": [
    {
     "name": "stdout",
     "output_type": "stream",
     "text": [
      "\n",
      "The first row: \n",
      "[2. 3. 4.]\n",
      "\n",
      "The second row and the first column: \n",
      "5.0\n"
     ]
    }
   ],
   "source": [
    "# Extract data the same way as in lists, indexing in using integers\n",
    "\n",
    "print(f\"\\nThe first row: \\n{sum_array[0]}\")\n",
    "print(f\"\\nThe second row and the first column: \\n{sum_array[1][0]}\")"
   ]
  },
  {
   "cell_type": "markdown",
   "metadata": {},
   "source": [
    "# 7. Dataframes (Tables) with Pandas\n",
    "\n",
    "We will use Pandas to create, manipulate, and read in/write out tables, or dataframes as they are called in Pandas. Dataframes, unlike arrays, are always 2-dimensional.\n",
    "\n",
    "Dataframes can be created manually, built using lists or dictionarys, or read in from tables (like csv, tsv, excel). There are many ways to build them, below, you will find just a few examples.\n",
    "\n",
    "Dataframes (unlike arrays) have column headers and an index (row names)\n",
    "\n",
    "\n",
    "### Dataframe creation"
   ]
  },
  {
   "cell_type": "code",
   "execution_count": 26,
   "metadata": {},
   "outputs": [
    {
     "name": "stdout",
     "output_type": "stream",
     "text": [
      "   C1  C2  C3\n",
      "0   1   2   3\n",
      "1   4   5   6\n"
     ]
    }
   ],
   "source": [
    "# Manually creating a dataframe - generally not recommended/used\n",
    "\n",
    "df1 = pd.DataFrame(columns=[\"C1\", \"C2\", \"C3\"], data=[[1,2,3],[4,5,6]])\n",
    "print(df1)"
   ]
  },
  {
   "cell_type": "code",
   "execution_count": 27,
   "metadata": {},
   "outputs": [
    {
     "name": "stdout",
     "output_type": "stream",
     "text": [
      "   C1  C2  C3\n",
      "0   1   2   3\n",
      "1   4   5   6\n"
     ]
    }
   ],
   "source": [
    "# Creating a dataframe from lists (one list per column)\n",
    "\n",
    "c1 = [1,4]\n",
    "c2 = [2,5]\n",
    "c3 = [3,6]\n",
    "\n",
    "col_names = [\"C1\",\"C2\",\"C3\"]\n",
    "\n",
    "df2 = pd.DataFrame(list(zip(c1,c2,c3)), columns=col_names)\n",
    "print(df2)"
   ]
  },
  {
   "cell_type": "code",
   "execution_count": 28,
   "metadata": {},
   "outputs": [
    {
     "name": "stdout",
     "output_type": "stream",
     "text": [
      "   C1  C2  C3\n",
      "0   1   2   3\n",
      "1   4   5   6\n"
     ]
    }
   ],
   "source": [
    "# Creating a Dataframe from a dictionary\n",
    "# The keys are the column names and the number of entries in your values in the number of rows\n",
    "dict_df = {\"C1\":[1,4],\"C2\":[2,5],\"C3\":[3,6]}\n",
    "\n",
    "df3 = pd.DataFrame(dict_df)\n",
    "print(df3)"
   ]
  },
  {
   "cell_type": "markdown",
   "metadata": {},
   "source": [
    "### Accessing Data Within a Dataframe and Manipulating It"
   ]
  },
  {
   "cell_type": "code",
   "execution_count": 29,
   "metadata": {},
   "outputs": [
    {
     "name": "stdout",
     "output_type": "stream",
     "text": [
      "\n",
      "The first column: \n",
      "0    1\n",
      "1    4\n",
      "Name: C1, dtype: int64\n",
      "\n",
      "The first column: \n",
      "4\n"
     ]
    }
   ],
   "source": [
    "# Pull out columns\n",
    "print(f\"\\nThe first column: \\n{df3['C1']}\")\n",
    "\n",
    "# Pull out columns and rows/index, [column name][index number]\n",
    "print(f\"\\nThe first column: \\n{df3['C1'][1]}\")"
   ]
  },
  {
   "cell_type": "code",
   "execution_count": 30,
   "metadata": {},
   "outputs": [
    {
     "name": "stdout",
     "output_type": "stream",
     "text": [
      "       c1  c2  c3\n",
      "row_0   1   2   3\n",
      "row_1   4   5   6\n"
     ]
    }
   ],
   "source": [
    "# Rename the columns and index\n",
    "\n",
    "# Copy our dataframe (optional)\n",
    "df4 = df3.copy()\n",
    "# print(df4)\n",
    "\n",
    "# Renaming the columns with a dictionary: old name is the key, and the new name is the value\n",
    "df4 = df4.rename(columns= {\"C1\":\"c1\",\"C2\":\"c2\",\"C3\":\"c3\"})\n",
    "\n",
    "# Rename the index\n",
    "df4 = df4.rename(index={0:\"row_0\",1:\"row_1\"})\n",
    "\n",
    "print(df4)"
   ]
  },
  {
   "cell_type": "code",
   "execution_count": 31,
   "metadata": {},
   "outputs": [
    {
     "name": "stdout",
     "output_type": "stream",
     "text": [
      "\n",
      "The first row df3: \n",
      "C1    1\n",
      "C2    2\n",
      "C3    3\n",
      "Name: 0, dtype: int64\n",
      "\n",
      "The first row df4: \n",
      "c1    1\n",
      "c2    2\n",
      "c3    3\n",
      "Name: row_0, dtype: int64\n"
     ]
    }
   ],
   "source": [
    "# loc function - can take labeled rows/columns in addtion to the indices\n",
    "# [row][column] or [row, column] with labels\n",
    "print(f\"\\nThe first row df3: \\n{df3.loc[0]}\")\n",
    "print(f\"\\nThe first row df4: \\n{df4.loc['row_0']}\")"
   ]
  },
  {
   "cell_type": "code",
   "execution_count": 32,
   "metadata": {},
   "outputs": [
    {
     "name": "stdout",
     "output_type": "stream",
     "text": [
      "\n",
      "The first row and last column df3: \n",
      "3\n",
      "\n",
      "The first row and last column df4: \n",
      "3\n",
      "\n",
      "The first row and last column df4: \n",
      "3\n"
     ]
    },
    {
     "name": "stderr",
     "output_type": "stream",
     "text": [
      "C:\\Users\\uqicasin\\AppData\\Local\\Temp\\ipykernel_19672\\950819996.py:1: FutureWarning: Series.__getitem__ treating keys as positions is deprecated. In a future version, integer keys will always be treated as labels (consistent with DataFrame behavior). To access a value by position, use `ser.iloc[pos]`\n",
      "  print(f\"\\nThe first row and last column df3: \\n{df3.loc[0][2]}\") # this is generating a warning\n"
     ]
    }
   ],
   "source": [
    "print(f\"\\nThe first row and last column df3: \\n{df3.loc[0][2]}\") # this is generating a warning\n",
    "print(f\"\\nThe first row and last column df4: \\n{df4.loc['row_0']['c3']}\")\n",
    "print(f\"\\nThe first row and last column df4: \\n{df4.loc['row_0','c3']}\")"
   ]
  },
  {
   "cell_type": "code",
   "execution_count": 33,
   "metadata": {},
   "outputs": [
    {
     "name": "stdout",
     "output_type": "stream",
     "text": [
      "\n",
      "The last row df3: \n",
      "C1    4\n",
      "C2    5\n",
      "C3    6\n",
      "Name: 1, dtype: int64\n",
      "\n",
      "The last row and last 2 columns df3: \n",
      "C2    5\n",
      "C3    6\n",
      "Name: 1, dtype: int64\n"
     ]
    }
   ],
   "source": [
    "# iloc function -  only takes numerical indices\n",
    "# [row,column]\n",
    "print(f\"\\nThe last row df3: \\n{df3.iloc[1]}\")\n",
    "\n",
    "# Choose a range using the ':'\n",
    "# Choose the last number of values by putting a '-'\n",
    "print(f\"\\nThe last row and last 2 columns df3: \\n{df3.iloc[1,-2:]}\")"
   ]
  },
  {
   "cell_type": "code",
   "execution_count": 34,
   "metadata": {},
   "outputs": [
    {
     "name": "stdout",
     "output_type": "stream",
     "text": [
      "   C1  C2  C3    C4\n",
      "0   1   2   3  10.0\n",
      "1   4   5   6  20.0\n",
      "\n",
      "Data types of the columns: \n",
      "C1     int64\n",
      "C2     int64\n",
      "C3     int64\n",
      "C4    object\n",
      "dtype: object\n"
     ]
    }
   ],
   "source": [
    "# Data types in dataframes and converting them\n",
    "\n",
    "# Add a new column to the dataframe\n",
    "df3['C4'] = [\"10.0\",\"20.0\"]\n",
    "# Check the data types of the columns\n",
    "\n",
    "print(df3)\n",
    "print(f\"\\nData types of the columns: \\n{df3.dtypes}\")"
   ]
  },
  {
   "cell_type": "code",
   "execution_count": 35,
   "metadata": {},
   "outputs": [
    {
     "name": "stdout",
     "output_type": "stream",
     "text": [
      "\n",
      "Data types of the columns: \n",
      "C1      int64\n",
      "C2      int64\n",
      "C3      int64\n",
      "C4    float64\n",
      "dtype: object\n"
     ]
    }
   ],
   "source": [
    "# convert the column to numeric values\n",
    "df3['C4'] = pd.to_numeric(df3['C4'])\n",
    "print(f\"\\nData types of the columns: \\n{df3.dtypes}\")"
   ]
  },
  {
   "cell_type": "markdown",
   "metadata": {},
   "source": [
    "### Mathematical operations and data replacement"
   ]
  },
  {
   "cell_type": "code",
   "execution_count": 36,
   "metadata": {},
   "outputs": [
    {
     "name": "stdout",
     "output_type": "stream",
     "text": [
      "       c1  c2  c3\n",
      "row_0  -1  -2  -3\n",
      "row_1  -4  -5  -6\n"
     ]
    }
   ],
   "source": [
    "df4 = df4*-1\n",
    "print(df4)"
   ]
  },
  {
   "cell_type": "code",
   "execution_count": 37,
   "metadata": {},
   "outputs": [
    {
     "name": "stdout",
     "output_type": "stream",
     "text": [
      "\n",
      "        c1   c2  c3\n",
      "row_0  -1 -2.0  -3\n",
      "row_1  -4  NaN  -6\n",
      "\n",
      "         c1   c2  c3\n",
      "row_0  NaN -2.0  -3\n",
      "row_1 -4.0  NaN  -6\n"
     ]
    }
   ],
   "source": [
    "# Individually replace values in the dataframe (2 different methods)\n",
    "\n",
    "# Make row_1 and c2 value 'Nan' instead of -5 in df4\n",
    "df4.loc['row_1','c2'] = np.nan\n",
    "print(\"\\n\",df4)\n",
    "\n",
    "# Use the replace function to make row_0 and c1 value 'Nan' instead of -1\n",
    "df4 = df4.replace([-1],[np.nan])\n",
    "print(\"\\n\",df4)"
   ]
  },
  {
   "cell_type": "code",
   "execution_count": 38,
   "metadata": {},
   "outputs": [
    {
     "name": "stdout",
     "output_type": "stream",
     "text": [
      "\n",
      "        c3\n",
      "row_0  -3\n",
      "row_1  -6\n"
     ]
    }
   ],
   "source": [
    "# Filtering rows and columns with a certain value\n",
    "# Drop the columns with a certain (NaN) value\n",
    "df4 = df4.dropna(axis='columns')\n",
    "print(\"\\n\",df4)"
   ]
  },
  {
   "cell_type": "markdown",
   "metadata": {},
   "source": [
    "# 8. Reading and Writing out Files with Pandas\n",
    "\n",
    "\n",
    "## Reading in csv/txt files\n",
    "\n",
    "You can specify what the delimiter (or separator) is for your file, .csv typically have commas, while .txt or .tsv files typically have tabs.\n",
    "\n",
    "You need to specify the location of the file (the path) that you want to read in."
   ]
  },
  {
   "cell_type": "code",
   "execution_count": 39,
   "metadata": {},
   "outputs": [
    {
     "name": "stdout",
     "output_type": "stream",
     "text": [
      "      Strain  Replicate  Time_h  GDCW_g_L\n",
      "0   Strain_A          1       0     0.052\n",
      "1   Strain_A          1       1     0.060\n",
      "2   Strain_A          1       2     0.190\n",
      "3   Strain_A          1       3     0.431\n",
      "4   Strain_A          1       4     0.711\n",
      "..       ...        ...     ...       ...\n",
      "73  Strain_B          3       8     1.683\n",
      "74  Strain_B          3       9     1.651\n",
      "75  Strain_B          3      10     1.926\n",
      "76  Strain_B          3      11     1.946\n",
      "77  Strain_B          3      12     1.956\n",
      "\n",
      "[78 rows x 4 columns]\n"
     ]
    }
   ],
   "source": [
    "# Read in a csv file (make sure to use the correct path)\n",
    "pathcsv = r\"C:\\Users\\uqicasin\\Documents\\Teaching\\Program_Workshop\\fake_gdcw_growth_data.csv\"\n",
    "df5 = pd.read_csv(pathcsv,sep=',',header=1,skiprows=0)\n",
    "print(df5)"
   ]
  },
  {
   "cell_type": "code",
   "execution_count": 40,
   "metadata": {},
   "outputs": [
    {
     "name": "stdout",
     "output_type": "stream",
     "text": [
      "   Fake Growth Data Unnamed: 1 Unnamed: 2 Unnamed: 3\n",
      "0            Strain  Replicate     Time_h   GDCW_g_L\n",
      "1          Strain_A          1          0      0.052\n",
      "2          Strain_A          1          1       0.06\n",
      "3          Strain_A          1          2       0.19\n",
      "4          Strain_A          1          3      0.431\n",
      "..              ...        ...        ...        ...\n",
      "74         Strain_B          3          8      1.683\n",
      "75         Strain_B          3          9      1.651\n",
      "76         Strain_B          3         10      1.926\n",
      "77         Strain_B          3         11      1.946\n",
      "78         Strain_B          3         12      1.956\n",
      "\n",
      "[79 rows x 4 columns]\n"
     ]
    }
   ],
   "source": [
    "# Read in txt file (make sure to use the correct path)\n",
    "pathtxt = r\"C:\\Users\\uqicasin\\Documents\\Teaching\\Program_Workshop\\fake_gdcw_growth_data_diff.txt\"\n",
    "df6 = pd.read_csv(pathtxt,sep='\\t', header=0)\n",
    "print(df6)"
   ]
  },
  {
   "cell_type": "markdown",
   "metadata": {},
   "source": [
    "## Writing out a csv file from a dataframe\n",
    "\n",
    "Note: You can use the same function for .txt files, just change the file extension and the delimiter"
   ]
  },
  {
   "cell_type": "code",
   "execution_count": 41,
   "metadata": {},
   "outputs": [],
   "source": [
    "# Designate the path out for the file (to where it will be written)\n",
    "pathout = r\"C:\\Users\\uqicasin\\Downloads\\df3_out.csv\"\n",
    "df3.to_csv(pathout,sep=',')"
   ]
  },
  {
   "cell_type": "markdown",
   "metadata": {},
   "source": [
    "## Reading and Writing Excel files"
   ]
  },
  {
   "cell_type": "code",
   "execution_count": 42,
   "metadata": {},
   "outputs": [
    {
     "name": "stdout",
     "output_type": "stream",
     "text": [
      "        Strain_A-Rep1  Strain_A-Rep2  Strain_A-Rep3  Strain_B-Rep1  \\\n",
      "Time_h                                                               \n",
      "0               0.052         -0.068         -0.030          0.039   \n",
      "1               0.060         -0.020          0.085          0.096   \n",
      "2               0.190          0.129          0.127          0.123   \n",
      "3               0.431          0.304          0.340          0.212   \n",
      "4               0.711          0.738          0.693          0.381   \n",
      "5               1.238          1.205          1.343          0.590   \n",
      "6               1.856          1.707          1.777          0.964   \n",
      "7               2.184          2.219          2.092          1.313   \n",
      "8               2.319          2.331          2.384          1.657   \n",
      "9               2.461          2.437          2.372          1.799   \n",
      "10              2.449          2.401          2.483          1.797   \n",
      "11              2.465          2.462          2.391          1.958   \n",
      "12              2.508          2.501          2.429          1.951   \n",
      "\n",
      "        Strain_B-Rep2  Strain_B-Rep3  \n",
      "Time_h                                \n",
      "0              -0.004          0.097  \n",
      "1               0.089          0.055  \n",
      "2               0.166          0.165  \n",
      "3               0.265          0.236  \n",
      "4               0.354          0.363  \n",
      "5               0.648          0.682  \n",
      "6               1.017          1.077  \n",
      "7               1.385          1.335  \n",
      "8               1.580          1.683  \n",
      "9               1.773          1.651  \n",
      "10              1.830          1.926  \n",
      "11              1.882          1.946  \n",
      "12              2.011          1.956  \n"
     ]
    }
   ],
   "source": [
    "# Reading in an excel file (make sure to use the correct path)\n",
    "pathxls = r\"C:\\Users\\uqicasin\\Documents\\Teaching\\Program_Workshop\\fake_gdcw_growth_data_pivoted.xlsx\"\n",
    "df7 = pd.read_excel(pathxls, sheet_name='Growth_Data', header=0, index_col=0) # can select sheet name\n",
    "print(df7)"
   ]
  },
  {
   "cell_type": "markdown",
   "metadata": {},
   "source": [
    "## Exercise 3: Edit your dataframe and write it out to an Excel Sheet\n",
    "\n",
    "hint: https://pandas.pydata.org/docs/reference/api/pandas.DataFrame.to_excel.html\n",
    "\n",
    "1) Drop the the Strain_B columns\n",
    "2) Make every zeroth time point have a value of 0. "
   ]
  },
  {
   "cell_type": "code",
   "execution_count": 43,
   "metadata": {},
   "outputs": [],
   "source": [
    "# Drop columns that contain 'temp'\n",
    "\n",
    "# create a list of all the columns that contain 'Strain_B'\n",
    "columns_to_drop = [\"Strain_B-Rep1\",\"Strain_B-Rep2\",\"Strain_B-Rep3\"]\n",
    "\n",
    "df7_mod1 = df7.drop(columns=columns_to_drop)\n"
   ]
  },
  {
   "cell_type": "code",
   "execution_count": 44,
   "metadata": {},
   "outputs": [],
   "source": [
    "# Convert every column value in the first row to zero\n",
    "df7_mod1.iloc[0] = 0\n"
   ]
  },
  {
   "cell_type": "markdown",
   "metadata": {},
   "source": [
    "### Less manual work"
   ]
  },
  {
   "cell_type": "code",
   "execution_count": 45,
   "metadata": {},
   "outputs": [],
   "source": [
    "# 2. Create an empty list to store column names we want to drop\n",
    "columns_to_drop = []\n",
    "\n",
    "# 3. Loop through each column name\n",
    "for column in df7.columns:\n",
    "    # 4. Check if 'temp' is in the column name\n",
    "    if 'Strain_B' in column:\n",
    "        # 5. Add it to the list\n",
    "        columns_to_drop.append(column)\n",
    "\n",
    "# 6. Drop the columns from the DataFrame\n",
    "df7_mod2 = df7.drop(columns=columns_to_drop)"
   ]
  },
  {
   "cell_type": "markdown",
   "metadata": {},
   "source": [
    "### Most concise"
   ]
  },
  {
   "cell_type": "code",
   "execution_count": 46,
   "metadata": {},
   "outputs": [],
   "source": [
    "df7_mod3 = df7.drop(columns=[col for col in df7.columns if 'Strain_B' in col])"
   ]
  },
  {
   "cell_type": "code",
   "execution_count": 47,
   "metadata": {},
   "outputs": [
    {
     "name": "stdout",
     "output_type": "stream",
     "text": [
      "        Strain_A-Rep1  Strain_A-Rep2  Strain_A-Rep3\n",
      "Time_h                                             \n",
      "0               0.000          0.000          0.000\n",
      "1               0.060         -0.020          0.085\n",
      "2               0.190          0.129          0.127\n",
      "3               0.431          0.304          0.340\n",
      "4               0.711          0.738          0.693\n",
      "5               1.238          1.205          1.343\n",
      "6               1.856          1.707          1.777\n",
      "7               2.184          2.219          2.092\n",
      "8               2.319          2.331          2.384\n",
      "9               2.461          2.437          2.372\n",
      "10              2.449          2.401          2.483\n",
      "11              2.465          2.462          2.391\n",
      "12              2.508          2.501          2.429\n",
      "        Strain_A-Rep1  Strain_A-Rep2  Strain_A-Rep3\n",
      "Time_h                                             \n",
      "0               0.052         -0.068         -0.030\n",
      "1               0.060         -0.020          0.085\n",
      "2               0.190          0.129          0.127\n",
      "3               0.431          0.304          0.340\n",
      "4               0.711          0.738          0.693\n",
      "5               1.238          1.205          1.343\n",
      "6               1.856          1.707          1.777\n",
      "7               2.184          2.219          2.092\n",
      "8               2.319          2.331          2.384\n",
      "9               2.461          2.437          2.372\n",
      "10              2.449          2.401          2.483\n",
      "11              2.465          2.462          2.391\n",
      "12              2.508          2.501          2.429\n",
      "        Strain_A-Rep1  Strain_A-Rep2  Strain_A-Rep3\n",
      "Time_h                                             \n",
      "0               0.052         -0.068         -0.030\n",
      "1               0.060         -0.020          0.085\n",
      "2               0.190          0.129          0.127\n",
      "3               0.431          0.304          0.340\n",
      "4               0.711          0.738          0.693\n",
      "5               1.238          1.205          1.343\n",
      "6               1.856          1.707          1.777\n",
      "7               2.184          2.219          2.092\n",
      "8               2.319          2.331          2.384\n",
      "9               2.461          2.437          2.372\n",
      "10              2.449          2.401          2.483\n",
      "11              2.465          2.462          2.391\n",
      "12              2.508          2.501          2.429\n"
     ]
    }
   ],
   "source": [
    "print(df7_mod1)\n",
    "print(df7_mod2)\n",
    "print(df7_mod3)"
   ]
  },
  {
   "cell_type": "markdown",
   "metadata": {},
   "source": [
    "### Write to Excel"
   ]
  },
  {
   "cell_type": "code",
   "execution_count": 48,
   "metadata": {},
   "outputs": [],
   "source": [
    "pathxls_out = r\"C:\\Users\\uqicasin\\Documents\\Teaching\\Program_Workshop\\df7_mod.xlsx\"\n",
    "df7_mod1.to_excel(pathxls_out, sheet_name='Growth_Data_Mod') # can select sheet name\n"
   ]
  }
 ],
 "metadata": {
  "kernelspec": {
   "display_name": "biotech",
   "language": "python",
   "name": "python3"
  },
  "language_info": {
   "codemirror_mode": {
    "name": "ipython",
    "version": 3
   },
   "file_extension": ".py",
   "mimetype": "text/x-python",
   "name": "python",
   "nbconvert_exporter": "python",
   "pygments_lexer": "ipython3",
   "version": "3.9.21"
  }
 },
 "nbformat": 4,
 "nbformat_minor": 2
}
