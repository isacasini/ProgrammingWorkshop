{
 "cells": [
  {
   "cell_type": "markdown",
   "metadata": {},
   "source": [
    "# Introduction to Python Data Types\n",
    "\n",
    "In this tutorial, you will be walked through different data types that are typically used in Python. You will be introduced to the \"print\" function that can be used to display designated information. You will also be introduced to the \"type\" function that will help you determine what data type a variable/object is.\n",
    "\n",
    "__Important notes on variables__:\n",
    "1) You use variables to store objects or information\n",
    "2) Python is case-sensitive. \"bioreactor\" is different from \"Bioreactor\"\n",
    "3) You can only name variables with alpha-numeric characters and underscores. But they cannot <ins>start</ins> with a number.\n",
    "4) There are some keywords in Python, that have fixed functions, you cannot use those either for variable names. https://www.w3schools.com/python/python_ref_keywords.asp\n",
    "\n",
    "__Important other notes__:\n",
    "1) Python \"indexes\" (starts counting) at 0 (not at 1)\n",
    "2) There are markdown cells, like this one, which are written in markdown, not in Python.\n",
    "3) If you want a line not to be read (as code), you write a pound symbol (#) in front. This can \"comment\" out the entire line, or be used mid line.\n",
    "4) You can comment out a line(s) using Ctrl + / (Windows)\n",
    "\n",
    "*Last edited: Isabella Casini, Subaru Muroi 16.04.2025*"
   ]
  },
  {
   "cell_type": "code",
   "execution_count": null,
   "metadata": {},
   "outputs": [],
   "source": [
    "# import relevant packages (entire line is commented out)\n",
    "\n",
    "import pandas as pd # call pandas \"pd\" for short (midline comment)\n",
    "import numpy as np"
   ]
  },
  {
   "cell_type": "markdown",
   "metadata": {},
   "source": [
    "# 1. Text types\n",
    "Strings:\n",
    "In Python, strings are denoted with single or double quotations, ' or \" on either side of the text."
   ]
  },
  {
   "cell_type": "code",
   "execution_count": null,
   "metadata": {},
   "outputs": [],
   "source": [
    "# strings\n",
    "string_ex = \"Bioreactor 1\"\n",
    "string_ex2 = 'Bioreactor 2'"
   ]
  },
  {
   "cell_type": "code",
   "execution_count": null,
   "metadata": {},
   "outputs": [],
   "source": [
    "# diplay the output using the print function\n",
    "print(string_ex)\n",
    "print(\"string_ex2\", string_ex2)"
   ]
  },
  {
   "cell_type": "code",
   "execution_count": null,
   "metadata": {},
   "outputs": [],
   "source": [
    "# Check the type of the data using the type function\n",
    "type_string_ex = type(string_ex)\n",
    "\n",
    "print(\"string_ex data type\", type_string_ex)\n",
    "\n",
    "# print using a different method\n",
    "print(f\"string_ex data type: {type(string_ex)}\")"
   ]
  },
  {
   "cell_type": "code",
   "execution_count": null,
   "metadata": {},
   "outputs": [],
   "source": [
    "# When working with strings, \"\\n\" and \"\\t\" add a new line and a tab, respectively\n",
    "# These are useful when formatting and view strings\n",
    "print(\"\\nNew Line \\nNew line and \\t a tab\")"
   ]
  },
  {
   "cell_type": "markdown",
   "metadata": {},
   "source": [
    "# 2. Numeric Types\n",
    "\n",
    "Intergers are whole numbers - no decimal or fraction (e.g., -1, 0, 1), floats  have a decimal (even if it is just for precision) or are a fraction (e.g., -1.0, 0.0, 1.0).\n",
    "\n",
    "Python has a built-in integer, int. The numpy package also provides two types of integers: int32 and int64 for 32 and 64 bits per integer, respectively.\n",
    "\n",
    "Python has a built-in float, float. The numpy package also provides two types of floats: float32 and float64 for 32 and 64 bits per integer, respectively.\n",
    "\n",
    "Some packages are written expecting a certain type of integer or float and will give an error if they receive a nonexpected format."
   ]
  },
  {
   "cell_type": "code",
   "execution_count": null,
   "metadata": {},
   "outputs": [],
   "source": [
    "# directly set a value to an integer\n",
    "a = 7\n",
    "\n",
    "# directly set a value to a float \n",
    "b = 7.0\n",
    "b2 = 7.5\n",
    "\n",
    "print(f\"'a'= {a}, data type: {type(a)}\")\n",
    "print(f\"'b'= {b}, data type: {type(b)}\")\n",
    "print(f\"'b2'= {b2}, data type: {type(b2)}\")\n",
    "\n",
    "# Convert the values (a float) into an integer\n",
    "a2 = int(b)\n",
    "a3= np.int32(b)\n",
    "a4 = np.int64(b)\n",
    "a5 = np.int64(b2)\n",
    "\n",
    "print(f\"'a2'= {a2}, data type: {type(a2)}\")\n",
    "print(f\"'a3'= {a3}, data type: {type(a3)}\")\n",
    "print(f\"'a4'= {a4}, data type: {type(a4)}\")\n",
    "print(f\"'a5'= {a5}, data type: {type(a5)}\")\n"
   ]
  },
  {
   "cell_type": "markdown",
   "metadata": {},
   "source": [
    "## Exercise 1: Combine into one variable the variable 'string_ex' and 'b2'"
   ]
  },
  {
   "cell_type": "code",
   "execution_count": null,
   "metadata": {},
   "outputs": [],
   "source": [
    "# Example\n",
    "concat = b2 + string_ex\n",
    "\n",
    "# What should we do to fix this error?"
   ]
  },
  {
   "cell_type": "markdown",
   "metadata": {},
   "source": [
    "# 3. Boolean Types\n",
    "\n",
    "Booleans include \"True\" and \"False\" and they can be combined with operators (e.g., \"and\", \"or\", \"not\", \"==\", \"!=\") to create expressions."
   ]
  },
  {
   "cell_type": "code",
   "execution_count": null,
   "metadata": {},
   "outputs": [],
   "source": [
    "# You can assess numeric statements\n",
    "print(\"Does 'a' equal 'b'? \", a==b)\n",
    "\n",
    "print(\"Is 'b' greater than 'b2'? \", b>b2)"
   ]
  },
  {
   "cell_type": "code",
   "execution_count": null,
   "metadata": {},
   "outputs": [],
   "source": [
    "# You can assess string statements\n",
    "# Check if the two strings are the same\n",
    "print(f\"Is this string: '{string_ex}' the same as this string '{string_ex2}'? {string_ex==string_ex2}\")"
   ]
  },
  {
   "cell_type": "code",
   "execution_count": null,
   "metadata": {},
   "outputs": [],
   "source": [
    "# Check if a partial string in another string\n",
    "partial_str = \"Bioreactor\"\n",
    "\n",
    "print(f\"Is our partial string '{partial_str}' in '{string_ex}': {partial_str in string_ex}\")"
   ]
  },
  {
   "cell_type": "markdown",
   "metadata": {},
   "source": [
    "# 4. Sequence Types\n",
    "\n",
    "Sequence types are used to store multiple items. Their order matters. They includes lists, tuples, and ranges. We'll focus on lists for now. Lists are structured with [ ] and comma to separate entries.\n",
    "\n",
    "We can:\n",
    "1) Add and remove items from lists\n",
    "2) Extract data from lists\n"
   ]
  },
  {
   "cell_type": "code",
   "execution_count": null,
   "metadata": {},
   "outputs": [],
   "source": [
    "# Create or initialize a list\n",
    "list1 = [] # this is an empty list\n",
    "\n",
    "print(f\"'list1' ({list1}) data type: {type(list1)}\")\n"
   ]
  },
  {
   "cell_type": "code",
   "execution_count": null,
   "metadata": {},
   "outputs": [],
   "source": [
    "# Create a list with values\n",
    "\n",
    "list2 = ['a', 'b', 'c'] # this is a list of strings\n",
    "list3 = [1,2,3] # this is a list of integers\n",
    "\n",
    "print(f\"'list2' ({list2}) data type: {type(list2)}\")\n",
    "print(f\"'list3' ({list3}) data type: {type(list3)}\")"
   ]
  },
  {
   "cell_type": "code",
   "execution_count": null,
   "metadata": {},
   "outputs": [],
   "source": [
    "# Add to lists and remove from lists\n",
    "list2.append('d') # adds a value to the end of the list\n",
    "list3.insert(3,4) # adds a value at the index position (position, value)\n",
    "list3.insert(0,0) # adds a value at the index position (position, value)\n",
    "\n",
    "print(f\"'list2': {list2}\")\n",
    "print(f\"'list3': {list3}\")"
   ]
  },
  {
   "cell_type": "code",
   "execution_count": null,
   "metadata": {},
   "outputs": [],
   "source": [
    "# Remove specified values from lists\n",
    "list2.remove('b') # if that value is not present you will get an error\n",
    "\n",
    "print(f\"'list2': {list2}\")"
   ]
  },
  {
   "cell_type": "code",
   "execution_count": null,
   "metadata": {},
   "outputs": [],
   "source": [
    "# Extract values of interest based of index\n",
    "print(f\"The 3rd item (index 2) in 'list2': {list2[2]}\")\n",
    "\n",
    "# Check the length of a list (how many entries it has) with the 'len()' function\n",
    "print(f\"'list2' has {len(list2)} entries\")"
   ]
  },
  {
   "cell_type": "code",
   "execution_count": null,
   "metadata": {},
   "outputs": [],
   "source": [
    "# Add a list to a list\n",
    "list2.append(list3)\n",
    "\n",
    "print(f\"'list2': {list2}\")"
   ]
  },
  {
   "cell_type": "code",
   "execution_count": null,
   "metadata": {},
   "outputs": [],
   "source": [
    "# You should see that now you have a list within a list.\n",
    "# If you index to the list (index = 3) then you extract the full list\n",
    "# If you want to pull something out of that list, you need to index further in\n",
    "\n",
    "print(f\"The former list3, or the 4th item (index 3) in 'list2': {list2[3]}\")\n",
    "print(f\"From the former list3, take the 2nd item (index 1): {list2[3][1]}\")\n"
   ]
  },
  {
   "cell_type": "markdown",
   "metadata": {},
   "source": [
    "# 5. Mapping Type - Dictionaries\n",
    "\n",
    "Dicitionaries are also collections, they contain keys and values. You can look for values by using the key. The value can be any data type. They are structured with { } with a : to separate a key from its value, and commas to separate key:value pairs."
   ]
  },
  {
   "cell_type": "code",
   "execution_count": null,
   "metadata": {},
   "outputs": [],
   "source": [
    "# Initalize an empty dictionary\n",
    "dict0 = {} # you can add items to this dictionary as show below\n",
    "\n",
    "# Create a dictionary with 'color1' and 'color2' as keys, and 'red' and 'orange' as the respective values\n",
    "dict1 = {'color1':'red','color2':'orange'}\n",
    "\n",
    "# Add to a dictionary\n",
    "dict1['color3'] = 'yellow'\n",
    "\n",
    "# Find a value of interest\n",
    "print(f\"The value to the key 'color2' is: {dict1['color2']}\")"
   ]
  },
  {
   "cell_type": "code",
   "execution_count": null,
   "metadata": {},
   "outputs": [],
   "source": [
    "# Extract all of the keys in a dictionary\n",
    "keys = dict1.keys()\n",
    "print(f\"Keys in dict1: {keys}\")"
   ]
  },
  {
   "cell_type": "code",
   "execution_count": null,
   "metadata": {},
   "outputs": [],
   "source": [
    "# Extract all of the values in a dictionary\n",
    "values = dict1.values()\n",
    "print(f\"Values in dict1: {values}\")"
   ]
  },
  {
   "cell_type": "markdown",
   "metadata": {},
   "source": [
    "## Exercise 2: What is wrong with the following code?"
   ]
  },
  {
   "cell_type": "code",
   "execution_count": null,
   "metadata": {},
   "outputs": [],
   "source": [
    "# Find a value of interest from a dictionary\n",
    "print(f\"The value to the key 'color4' is: {dict1['color4']}\")"
   ]
  },
  {
   "cell_type": "markdown",
   "metadata": {},
   "source": [
    "# 6. Arrays with Numpy\n",
    "\n",
    "We will use Numpy for arrays. Arrays can be higher dimensional, but we'll start with 2-dimensions and create the arrays using lists.\n",
    "\n",
    "Each level of brackets [] is another dimensions."
   ]
  },
  {
   "cell_type": "code",
   "execution_count": null,
   "metadata": {},
   "outputs": [],
   "source": [
    "# Create a list of lists. The number of lists is the number of rows, and the enteries in each list are the number of columns\n",
    "\n",
    "# Make a 2 x 3 array (2 rows, 3 columns)\n",
    "list_array = [[1,2,3],[4,5,6]]\n",
    "\n",
    "# Convert that list into an array.\n",
    "array1 = np.array(list_array)\n",
    "print(array1)\n",
    "print(f\"\\narray1: \\n{array1}\")"
   ]
  },
  {
   "cell_type": "code",
   "execution_count": null,
   "metadata": {},
   "outputs": [],
   "source": [
    "# The 'shape' function will return the dimensions of the array.\n",
    "# In our 2-D case, it will return n x m number of rows[0] and columns [1], respectively\n",
    "print(f\"\\narray1 has {array1.shape[0]} rows and {array1.shape[1]} columns\")"
   ]
  },
  {
   "cell_type": "code",
   "execution_count": null,
   "metadata": {},
   "outputs": [],
   "source": [
    "# Perform typical matrix operations on a array\n",
    "\n",
    "# Create a 2 x 3 array of ones, using the np.ones() function\n",
    "ones_array = np.ones((2,3))\n",
    "print(ones_array)\n",
    "\n",
    "# Add the arrays together\n",
    "sum_array = array1 + ones_array\n",
    "\n",
    "print(f\"\\nsum_array: \\n{sum_array}\")"
   ]
  },
  {
   "cell_type": "code",
   "execution_count": null,
   "metadata": {},
   "outputs": [],
   "source": [
    "# Extract data the same way as in lists, indexing in using integers\n",
    "\n",
    "print(f\"\\nThe first row: \\n{sum_array[0]}\")\n",
    "print(f\"\\nThe second row and the first column: \\n{sum_array[1][0]}\")"
   ]
  },
  {
   "cell_type": "markdown",
   "metadata": {},
   "source": [
    "# 7. Dataframes (Tables) with Pandas\n",
    "\n",
    "We will use Pandas to create, manipulate, and read in/write out tables, or dataframes as they are called in Pandas. Dataframes, unlike arrays, are always 2-dimensional.\n",
    "\n",
    "Dataframes can be created manually, built using lists or dictionarys, or read in from tables (like csv, tsv, excel). There are many ways to build them, below, you will find just a few examples.\n",
    "\n",
    "Dataframes (unlike arrays) have column headers and an index (row names)\n",
    "\n",
    "\n",
    "### Dataframe creation"
   ]
  },
  {
   "cell_type": "code",
   "execution_count": null,
   "metadata": {},
   "outputs": [],
   "source": [
    "# Manually creating a dataframe - generally not recommended/used\n",
    "\n",
    "df1 = pd.DataFrame(columns=[\"C1\", \"C2\", \"C3\"], data=[[1,2,3],[4,5,6]])\n",
    "print(df1)"
   ]
  },
  {
   "cell_type": "code",
   "execution_count": null,
   "metadata": {},
   "outputs": [],
   "source": [
    "# Creating a dataframe from lists (one list per column)\n",
    "\n",
    "c1 = [1,4]\n",
    "c2 = [2,5]\n",
    "c3 = [3,6]\n",
    "\n",
    "col_names = [\"C1\",\"C2\",\"C3\"]\n",
    "\n",
    "df2 = pd.DataFrame(list(zip(c1,c2,c3)), columns=col_names)\n",
    "print(df2)"
   ]
  },
  {
   "cell_type": "code",
   "execution_count": null,
   "metadata": {},
   "outputs": [],
   "source": [
    "# Creating a Dataframe from a dictionary\n",
    "# The keys are the column names and the number of entries in your values in the number of rows\n",
    "dict_df = {\"C1\":[1,4],\"C2\":[2,5],\"C3\":[3,6]}\n",
    "\n",
    "df3 = pd.DataFrame(dict_df)\n",
    "print(df3)"
   ]
  },
  {
   "cell_type": "markdown",
   "metadata": {},
   "source": [
    "### Accessing Data Within a Dataframe and Manipulating It"
   ]
  },
  {
   "cell_type": "code",
   "execution_count": null,
   "metadata": {},
   "outputs": [],
   "source": [
    "# Pull out columns\n",
    "print(f\"\\nThe first column: \\n{df3['C1']}\")\n",
    "\n",
    "# Pull out columns and rows/index, [column name][index number]\n",
    "print(f\"\\nThe first column: \\n{df3['C1'][1]}\")"
   ]
  },
  {
   "cell_type": "code",
   "execution_count": null,
   "metadata": {},
   "outputs": [],
   "source": [
    "# Rename the columns and index\n",
    "\n",
    "# Copy our dataframe (optional)\n",
    "df4 = df3.copy()\n",
    "# print(df4)\n",
    "\n",
    "# Renaming the columns with a dictionary: old name is the key, and the new name is the value\n",
    "df4 = df4.rename(columns= {\"C1\":\"c1\",\"C2\":\"c2\",\"C3\":\"c3\"})\n",
    "\n",
    "# Rename the index\n",
    "df4 = df4.rename(index={0:\"row_0\",1:\"row_1\"})\n",
    "\n",
    "print(df4)"
   ]
  },
  {
   "cell_type": "code",
   "execution_count": null,
   "metadata": {},
   "outputs": [],
   "source": [
    "# loc function - can take labeled rows/columns in addtion to the indices\n",
    "# [row][column] or [row, column] with labels\n",
    "print(f\"\\nThe first row df3: \\n{df3.loc[0]}\")\n",
    "print(f\"\\nThe first row df4: \\n{df4.loc['row_0']}\")"
   ]
  },
  {
   "cell_type": "code",
   "execution_count": null,
   "metadata": {},
   "outputs": [],
   "source": [
    "print(f\"\\nThe first row and last column df3: \\n{df3.loc[0][2]}\") # this is generating a warning\n",
    "print(f\"\\nThe first row and last column df4: \\n{df4.loc['row_0']['c3']}\")\n",
    "print(f\"\\nThe first row and last column df4: \\n{df4.loc['row_0','c3']}\")"
   ]
  },
  {
   "cell_type": "code",
   "execution_count": null,
   "metadata": {},
   "outputs": [],
   "source": [
    "# iloc function -  only takes numerical indices\n",
    "# [row,column]\n",
    "print(f\"\\nThe last row df3: \\n{df3.iloc[1]}\")\n",
    "\n",
    "# Choose a range using the ':'\n",
    "# Choose the last number of values by putting a '-'\n",
    "print(f\"\\nThe last row and last 2 columns df3: \\n{df3.iloc[1,-2:]}\")"
   ]
  },
  {
   "cell_type": "markdown",
   "metadata": {},
   "source": [
    "### Mathematical operations and data replacement"
   ]
  },
  {
   "cell_type": "code",
   "execution_count": null,
   "metadata": {},
   "outputs": [],
   "source": [
    "df4 = df4*-1\n",
    "print(df4)"
   ]
  },
  {
   "cell_type": "code",
   "execution_count": null,
   "metadata": {},
   "outputs": [],
   "source": [
    "# Individually replace values in the dataframe (2 different methods)\n",
    "\n",
    "# Make row_1 and c2 value 'Nan' instead of -5 in df4\n",
    "df4.loc['row_1','c2'] = np.nan\n",
    "print(\"\\n\",df4)\n",
    "\n",
    "# Use the replace function to make row_0 and c1 value 'Nan' instead of -1\n",
    "df4 = df4.replace([-1],[np.nan])\n",
    "print(\"\\n\",df4)"
   ]
  },
  {
   "cell_type": "code",
   "execution_count": null,
   "metadata": {},
   "outputs": [],
   "source": [
    "# Filtering rows and columns with a certain value\n",
    "# Drop the columns with a certain (NaN) value\n",
    "df4 = df4.dropna(axis='columns')\n",
    "print(\"\\n\",df4)"
   ]
  },
  {
   "cell_type": "markdown",
   "metadata": {},
   "source": [
    "# 8. Reading and Writing out Files with Pandas\n",
    "\n",
    "\n",
    "## Reading in csv/txt files\n",
    "\n",
    "You can specify what the delimiter (or separator) is for your file, .csv typically have commas, while .txt or .tsv files typically have tabs.\n",
    "\n",
    "You need to specify the location of the file (the path) that you want to read in."
   ]
  },
  {
   "cell_type": "code",
   "execution_count": null,
   "metadata": {},
   "outputs": [],
   "source": [
    "# Read in a csv file b\n",
    "pathcsv = r\"C:\\Users\\uqicasin\\Documents\\Teaching\\Program_Workshop\\fake_gdcw_growth_data.csv\"\n",
    "df5 = pd.read_csv(pathcsv,sep=',',header=1,skiprows=0)\n",
    "print(df5)"
   ]
  },
  {
   "cell_type": "code",
   "execution_count": null,
   "metadata": {},
   "outputs": [],
   "source": [
    "# Read in txt file\n",
    "pathtxt = r\"C:\\Users\\uqicasin\\Documents\\Teaching\\Program_Workshop\\fake_gdcw_growth_data_diff.txt\"\n",
    "df6 = pd.read_csv(pathtxt,sep='\\t', header=0)\n",
    "print(df6)"
   ]
  },
  {
   "cell_type": "markdown",
   "metadata": {},
   "source": [
    "## Writing out a csv file from a dataframe\n",
    "\n",
    "Note: You can use the same function for .txt files, just change the file extension and the delimiter"
   ]
  },
  {
   "cell_type": "code",
   "execution_count": null,
   "metadata": {},
   "outputs": [],
   "source": [
    "# Designate the path out for the file (to where it will be written)\n",
    "pathout = r\"C:\\Users\\uqicasin\\Downloads\\df3_out.csv\"\n",
    "df3.to_csv(pathout,sep=',')"
   ]
  },
  {
   "cell_type": "markdown",
   "metadata": {},
   "source": [
    "## Reading and Writing Excel files"
   ]
  },
  {
   "cell_type": "code",
   "execution_count": null,
   "metadata": {},
   "outputs": [],
   "source": [
    "# Reading in an excel file\n",
    "pathxls = r\"C:\\Users\\uqicasin\\Documents\\Teaching\\Program_Workshop\\fake_gdcw_growth_data_pivoted.xlsx\"\n",
    "df7 = pd.read_excel(pathxls, sheet_name='Growth_Data', header=0, index_col=0) # can select sheet name\n",
    "print(df7)"
   ]
  },
  {
   "cell_type": "markdown",
   "metadata": {},
   "source": [
    "## Exercise 3: Edit your dataframe and write it out to an Excel Sheet\n",
    "\n",
    "hint: https://pandas.pydata.org/docs/reference/api/pandas.DataFrame.to_excel.html\n",
    "\n",
    "1) Drop the the Strain_B columns\n",
    "2) Make every zeroth time point have a value of 0. "
   ]
  },
  {
   "cell_type": "code",
   "execution_count": null,
   "metadata": {},
   "outputs": [],
   "source": []
  }
 ],
 "metadata": {
  "kernelspec": {
   "display_name": "biotech",
   "language": "python",
   "name": "python3"
  },
  "language_info": {
   "codemirror_mode": {
    "name": "ipython",
    "version": 3
   },
   "file_extension": ".py",
   "mimetype": "text/x-python",
   "name": "python",
   "nbconvert_exporter": "python",
   "pygments_lexer": "ipython3",
   "version": "3.9.21"
  }
 },
 "nbformat": 4,
 "nbformat_minor": 2
}
