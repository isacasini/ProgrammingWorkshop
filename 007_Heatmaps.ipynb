{
 "cells": [
  {
   "cell_type": "markdown",
   "id": "ae29b339",
   "metadata": {},
   "source": [
    "# Heatmaps\n",
    "\n",
    "In past sessions we've learned to read in Excel files, extract out data from tables, and then graph them. We also learned to use Git. This session we will plot differential expression transcriptomics data as heatmaps.\n",
    "\n",
    "We will:\n",
    "1) Pull the updated Git repository\n",
    "2) Install the Seaborn Python package\n",
    "3) Filter data for rows with Log2FC >3 or <-3.\n",
    "4) Plot that data as a heatmap.\n",
    "\n",
    "__Additional Concepts__:\n",
    "- Relative paths\n",
    "- Preventing file overwriting using timestamps\n",
    "\n",
    "*Last edited: Isabella Casini 30.09.2025*"
   ]
  },
  {
   "cell_type": "markdown",
   "id": "5598ecf2",
   "metadata": {},
   "source": [
    "# 1) Pulling (updated Git repository)\n",
    "\n",
    "1. Open up Git Bash\n",
    "2. Use the command: \"git pull origin main\"\n",
    "3. You should now have the new files (007_Heatmaps.ipynb and the /007_heatmap_data/)"
   ]
  },
  {
   "cell_type": "markdown",
   "id": "970b1e25",
   "metadata": {},
   "source": [
    "# 2) Install Seaborn package\n",
    "\n",
    "1. Open Anaconda Prompt\n",
    "2. Activate your \"biotech\" environment\n",
    "\t- Hint: conda active biotech\n",
    "3. Install \"seaborn\" using conda\n",
    "\t- Hint: conda install seaborn"
   ]
  },
  {
   "cell_type": "markdown",
   "id": "386c73fc",
   "metadata": {},
   "source": [
    "# 3) Read in the transcriptomics data (comparing two strain to a reference strain)\n",
    "\n",
    "(We'll use \"Sheet4\" and \"Sheet5\" - strains Marburg vs DeltaH and Z-245 vs DeltaH)"
   ]
  },
  {
   "cell_type": "code",
   "execution_count": null,
   "id": "92a9ba1f",
   "metadata": {},
   "outputs": [],
   "source": [
    "# import required libraries\n",
    "import pandas as pd # call pandas \"pd\" for short (midline comment)\n",
    "import numpy as np\n",
    "\n",
    "# Plotting libraries\n",
    "import matplotlib.pyplot as plt # import pyplot from matplotlib and call it \"plt\"\n",
    "import matplotlib as mpl\n",
    "\n",
    "# Plotting heatmaps\n",
    "import seaborn as sns\n",
    "\n",
    "# Related to file paths\n",
    "import os"
   ]
  },
  {
   "cell_type": "code",
   "execution_count": null,
   "id": "5df9cf73",
   "metadata": {},
   "outputs": [],
   "source": [
    "# Path to the file (change your path to where you save your file)\n",
    "# pathin = r\"C:\\Users\\uqicasin\\Documents\\Teaching\\Program_Workshop\\ProgrammingWorkshop_Git\\ProgrammingWorkshop\\007_heatmap_data\\Data_S4.xlsx\" # what we've used in the past\n",
    "\n",
    "# Using relative path\n",
    "pathin = os.path.join(\"007_heatmap_data\", \"Data_S4.xlsx\") # to go back one directory, use \"..\"\n",
    "print(os.path.abspath(pathin))"
   ]
  },
  {
   "cell_type": "code",
   "execution_count": null,
   "id": "d3219425",
   "metadata": {},
   "outputs": [],
   "source": [
    "# Set the gene column to be the index\n",
    "df_MvsDH = pd.read_excel(pathin, sheet_name='Sheet4', index_col=0)\n",
    "df_ZvsDH = pd.read_excel(pathin, sheet_name='Sheet5', index_col=0)"
   ]
  },
  {
   "cell_type": "code",
   "execution_count": null,
   "id": "0250af47",
   "metadata": {},
   "outputs": [],
   "source": [
    "# Remove rows with NaN as index in df_MvsDH\n",
    "df_MvsDH = df_MvsDH[~df_MvsDH.index.isna()]\n",
    "\n",
    "# Remove rows with NaN as index in df_ZvsDH\n",
    "df_ZvsDH = df_ZvsDH[~df_ZvsDH.index.isna()]"
   ]
  },
  {
   "cell_type": "markdown",
   "id": "aeab07e3",
   "metadata": {},
   "source": [
    "# 4) Filter out values from each that are Log2FC >3 or <-3"
   ]
  },
  {
   "cell_type": "code",
   "execution_count": null,
   "id": "8d1ccfb9",
   "metadata": {},
   "outputs": [],
   "source": [
    "df_MvsDH_filtered = df_MvsDH[(df_MvsDH[\"log2FoldChange\"] <= -3) | (df_MvsDH[\"log2FoldChange\"] >= 3)]\n",
    "df_ZvsDH_filtered = df_ZvsDH[(df_ZvsDH[\"log2FoldChange\"] <= -3) | (df_ZvsDH[\"log2FoldChange\"] >= 3)]"
   ]
  },
  {
   "cell_type": "markdown",
   "id": "f25c5e3a",
   "metadata": {},
   "source": [
    "# 5) Merge the two dataframes keeping only columns of interest"
   ]
  },
  {
   "cell_type": "code",
   "execution_count": null,
   "id": "8bcad0d6",
   "metadata": {},
   "outputs": [],
   "source": [
    "# select only the columns you want\n",
    "columns_to_keep = ['log2FoldChange', 'padj', 'Gene Group']\n",
    "\n",
    "# add a suffix to the columns to differentiate between the two dataframes\n",
    "df_M_Z_vs_DH = pd.concat([df_MvsDH_filtered[columns_to_keep].add_suffix('_MvsDH'), df_ZvsDH_filtered[columns_to_keep].add_suffix('_ZvsDH')], axis=1)"
   ]
  },
  {
   "cell_type": "code",
   "execution_count": null,
   "id": "76ef40c2",
   "metadata": {},
   "outputs": [],
   "source": [
    "df_M_Z_vs_DH"
   ]
  },
  {
   "cell_type": "code",
   "execution_count": null,
   "id": "7d7820e8",
   "metadata": {},
   "outputs": [],
   "source": [
    "# remove rows with NaN values in either log2FoldChange_MvsDH or log2FoldChange_ZvsDH\n",
    "df_M_Z_vs_DH_filtered = df_M_Z_vs_DH[pd.notna(df_M_Z_vs_DH[\"log2FoldChange_MvsDH\"]) & pd.notna(df_M_Z_vs_DH[\"log2FoldChange_ZvsDH\"])]\n"
   ]
  },
  {
   "cell_type": "code",
   "execution_count": null,
   "id": "e0782099",
   "metadata": {},
   "outputs": [],
   "source": [
    "df_M_Z_vs_DH_filtered"
   ]
  },
  {
   "cell_type": "markdown",
   "id": "b1f73960",
   "metadata": {},
   "source": [
    "# 6) Plot the heatmap"
   ]
  },
  {
   "cell_type": "code",
   "execution_count": null,
   "id": "8b733ab4",
   "metadata": {},
   "outputs": [],
   "source": [
    "# NEW define fonts (including size and color)\n",
    "# Set global font and font size\n",
    "mpl.rcParams['font.family'] = 'Arial'         # or 'DejaVu Sans', 'Times New Roman', etc.\n",
    "mpl.rcParams['font.size'] = 10              # global font size\n",
    "\n",
    "# Set global figure size (width, height) in inches\n",
    "mpl.rcParams['figure.figsize'] = (8, 6)       # all figures will be 8x6 inches\n",
    "\n",
    "mpl.rcParams['axes.titlesize'] = 10          # title font size\n",
    "mpl.rcParams['axes.labelsize'] = 10          # axis label font size\n",
    "mpl.rcParams['xtick.labelsize'] = 10          # x-axis tick font size\n",
    "mpl.rcParams['ytick.labelsize'] = 10          # y-axis tick font size\n",
    "mpl.rcParams['legend.fontsize'] = 10          # legend font size"
   ]
  },
  {
   "cell_type": "code",
   "execution_count": null,
   "id": "8499fc79",
   "metadata": {},
   "outputs": [],
   "source": [
    "## Default settings\n",
    "\n",
    "# Set the figure size\n",
    "plt.figure(figsize=(2.5, 10))  # slightly wider for readability\n",
    "\n",
    "# Plot the heatmap\n",
    "ax = sns.heatmap(\n",
    "    df_M_Z_vs_DH_filtered[[\"log2FoldChange_MvsDH\", \"log2FoldChange_ZvsDH\"]],\n",
    "    xticklabels=[\"MM vs DH\", \"ZZ vs DH\"],\n",
    "    yticklabels=df_M_Z_vs_DH_filtered.index,\n",
    "    cmap=\"coolwarm\"\n",
    ")\n",
    "\n",
    "plt.tight_layout()\n",
    "\n",
    "# Save the figure\n",
    "pathout = r\"C:\\Users\\uqicasin\\Documents\\Teaching\\Program_Workshop\\007_heatmap_data\"\n",
    "filename = f\"{pathout}_DE_Trans_simple.svg\"\n",
    "# plt.savefig(filename, dpi=300, bbox_inches='tight') # uncomment to save the figure\n",
    "\n",
    "plt.show()"
   ]
  },
  {
   "cell_type": "markdown",
   "id": "1d454d55",
   "metadata": {},
   "source": [
    "# 6.1) Customize the plot"
   ]
  },
  {
   "cell_type": "code",
   "execution_count": null,
   "id": "38345f27",
   "metadata": {},
   "outputs": [],
   "source": [
    "# Save the figure with a timestamp\n",
    "# Need a new package\n",
    "from datetime import datetime\n"
   ]
  },
  {
   "cell_type": "code",
   "execution_count": null,
   "id": "cb806687",
   "metadata": {},
   "outputs": [],
   "source": [
    "# Set font scale globally\n",
    "# sns.set(font_scale=0.6)\n",
    "\n",
    "# Set the figure size\n",
    "plt.figure(figsize=(2.5, 10))  # slightly wider for readability\n",
    "\n",
    "# Plot the heatmap\n",
    "ax = sns.heatmap(\n",
    "    df_M_Z_vs_DH_filtered[[\"log2FoldChange_MvsDH\", \"log2FoldChange_ZvsDH\"]],\n",
    "    xticklabels=[\"MM vs DH\", \"ZZ vs DH\"],\n",
    "    yticklabels=df_M_Z_vs_DH_filtered.index,\n",
    "    cmap=\"coolwarm\",\n",
    "    linewidths=0.5, # with lines between cells\n",
    "\tlinecolor=\"white\", # color of lines\n",
    "    cbar_kws={\"shrink\": 0.5, \"aspect\": 10, \"pad\": 0.3} # colorbar settings\n",
    ")\n",
    "\n",
    "# Customize colorbar\n",
    "cbar = ax.collections[0].colorbar\n",
    "cbar.set_label(\"Log2FC\",fontsize=10, fontweight=\"bold\")\n",
    "cbar.ax.tick_params(labelsize=10)#, length=0)  # tick font size, tick length 0 to hide ticks\n",
    "\n",
    "# coords = (x, y) in axes fraction\n",
    "cbar.ax.yaxis.label.set_rotation(90)\n",
    "cbar.ax.yaxis.label.set_horizontalalignment(\"center\")\n",
    "cbar.ax.yaxis.set_label_coords(-1.4, 0.5)  # move further left\n",
    "\n",
    "# Formatting of the labels and title\n",
    "ax.set_title(\"DE Transcriptomics >3 | <-3\", fontsize=12, pad=15)\n",
    "ax.set_ylabel(\"DH Genes (Reference Strain)\", fontsize=10,fontweight=\"bold\")\n",
    "ax.set_xlabel(\"\")  # keep empty\n",
    "ax.tick_params(axis=\"y\", labelsize=8)#, which=\"both\", length=0, rotation=0)  # tick label font size, tick length 0 to hide ticks\n",
    "\n",
    "# Manually add x-axis labels with rotation and position\n",
    "ax.set_xticks([0.5, 1.5])  # centers of the heatmap cells\n",
    "ax.set_xticklabels([])     # hide default\n",
    "ax.text(-1.1, 76, \"MM vs DH\", ha=\"left\", va=\"bottom\", rotation=50, fontsize=10,fontweight=\"bold\")\n",
    "ax.text(-0, 76, \"ZZ vs DH\", ha=\"left\", va=\"bottom\", rotation=50, fontsize=10,fontweight=\"bold\")\n",
    "\n",
    "# Add a second x-axis on top for \"Group1\" and \"Group2\"\n",
    "ax2 = ax.twiny()\n",
    "ax2.set_xlim(ax.get_xlim())  # match heatmap\n",
    "ax2.set_xticks([0.5, 1.5])  # position between the two heatmap columns\n",
    "ax2.set_xticklabels([\"Group1\", \"Group2\"], fontsize=8, fontweight=\"bold\",rotation=90)\n",
    "ax2.xaxis.tick_top()  # place ticks/labels on top\n",
    "ax2.tick_params(length=2)  # remove the ticks if you want\n",
    "\n",
    "plt.tight_layout()\n",
    "\n",
    "# Pull the timestamp (time now) in the formate that you want, YYYYmmdd_HHMMSS\n",
    "timestamp = datetime.now().strftime(\"%Y%m%d_%H%M%S\")\n",
    "# Save the figure\n",
    "pathout = r\"C:\\Users\\uqicasin\\Documents\\Teaching\\Program_Workshop\\007_heatmap_data\"\n",
    "# add timestamp to the filename\n",
    "filename = f\"{pathout}_DE_Trans_custom_{timestamp}.svg\"\n",
    "# plt.savefig(filename, dpi=300, bbox_inches='tight') # uncomment to save the figure\n",
    "\n",
    "plt.show()"
   ]
  }
 ],
 "metadata": {
  "kernelspec": {
   "display_name": "biotech",
   "language": "python",
   "name": "python3"
  },
  "language_info": {
   "codemirror_mode": {
    "name": "ipython",
    "version": 3
   },
   "file_extension": ".py",
   "mimetype": "text/x-python",
   "name": "python",
   "nbconvert_exporter": "python",
   "pygments_lexer": "ipython3",
   "version": "3.9.21"
  }
 },
 "nbformat": 4,
 "nbformat_minor": 5
}
