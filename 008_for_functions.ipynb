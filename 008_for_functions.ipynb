{
 "cells": [
  {
   "cell_type": "markdown",
   "id": "4b693879",
   "metadata": {},
   "source": [
    "# For Loops and Functions\n",
    "\n",
    "This session we will learn about for loops and how to write a basic function. These are useful mechanisms for making code organised and efficient.\n",
    "\n",
    "We will:\n",
    "1) Introduce for loops\n",
    "2) Introduce functions\n",
    "3) Combining loops and functions\n",
    "4) Use a function to easily reproduce plots in a for loop\n",
    "\n",
    "__Additional Concepts__:\n",
    "- Displaying images in a notebook (local and url)\n",
    "- Help function for understanding functions\n",
    "- Using \"None\" with parameters \n",
    "\n",
    "*Last edited: Isabella Casini 17.10.2025*"
   ]
  },
  {
   "cell_type": "code",
   "execution_count": null,
   "id": "0d957c59",
   "metadata": {},
   "outputs": [],
   "source": [
    "import pandas as pd\n",
    "import numpy as np\n",
    "\n",
    "\n",
    "import matplotlib.pyplot as plt # import pyplot from matplotlib and call it \"plt\"\n",
    "import matplotlib as mpl\n",
    "import seaborn as sns\n",
    "\n",
    "from IPython.display import Image\n",
    "from IPython.display import display\n",
    "\n",
    "import os\n",
    "\n",
    "from datetime import datetime"
   ]
  },
  {
   "cell_type": "markdown",
   "id": "02e9499f",
   "metadata": {},
   "source": [
    "# 1) Introduction to \"for loops\""
   ]
  },
  {
   "cell_type": "code",
   "execution_count": null,
   "id": "2e341b4a",
   "metadata": {},
   "outputs": [],
   "source": [
    "# From a URL\n",
    "display(Image(url='https://media.geeksforgeeks.org/wp-content/uploads/20191101172216/for-loop-python.jpg',width=750))\n",
    "# From a local file # Put the local path to your image here\n",
    "# display(Image(filename=r\"C:\\Users\\uqicasin\\Documents\\Teaching\\Program_Workshop\\for-loop-python.jpg\"))"
   ]
  },
  {
   "cell_type": "code",
   "execution_count": null,
   "id": "b8d51639",
   "metadata": {},
   "outputs": [],
   "source": [
    "# From a URL\n",
    "display(Image(url='https://realpython.com/cdn-cgi/image/width=1920,format=auto/https://files.realpython.com/media/UPDATE-Python-for-Loops-Definite-Iteration_Watermarked.32bfd8825dfe.jpg',width=750))"
   ]
  },
  {
   "cell_type": "code",
   "execution_count": null,
   "id": "790ee1b0",
   "metadata": {},
   "outputs": [],
   "source": [
    "# Example 1: Using a for loop to iterate over a list of fruits\n",
    "\n",
    "fruits = ['apple', 'banana', 'cherry']\n",
    "\n",
    "for fruit in fruits:\n",
    "    print(fruit)"
   ]
  },
  {
   "cell_type": "code",
   "execution_count": null,
   "id": "7620bd8d",
   "metadata": {},
   "outputs": [],
   "source": [
    "# Example 2: using the number index to access elements in the list\n",
    "\n",
    "for i in range(len(fruits)):\n",
    "    print(\"i:\", i)\n",
    "    print(\"fruit:\", fruits[i])"
   ]
  },
  {
   "cell_type": "code",
   "execution_count": null,
   "id": "fa149473",
   "metadata": {},
   "outputs": [],
   "source": [
    "# Example 3: Using loops with dictionaries\n",
    "\n",
    "fruit_dict = {'a': 'apple', 'b': 'banana', 'c': 'cherry'}\n",
    "\n",
    "for key in fruit_dict:\n",
    "    print(\"key:\", key)\n",
    "    print(\"value:\", fruit_dict[key])"
   ]
  },
  {
   "cell_type": "code",
   "execution_count": null,
   "id": "6b049018",
   "metadata": {},
   "outputs": [],
   "source": [
    "# Example 4: Using loops with dicionaries\n",
    "\n",
    "for key, value in fruit_dict.items():\n",
    "\tprint(\"key:\", key)\n",
    "\tprint(\"value:\", value)"
   ]
  },
  {
   "cell_type": "markdown",
   "id": "042f8992",
   "metadata": {},
   "source": [
    "# 2) Introduction to functions\n",
    "\n",
    "Functions have a few different components:\n",
    "- \"def\" which is put a at the beginning indicating the defining of a function\n",
    "- function name\n",
    "- Docstring - function description in triple quotes (optional, but recommended)\n",
    "- parameters to pass from outside the function to inside the function (optional)\n",
    "- function body which is the code\n",
    "- \"return\" statement, which lets you return objective from inside the function to back outside (optional)"
   ]
  },
  {
   "cell_type": "code",
   "execution_count": null,
   "id": "386357b7",
   "metadata": {},
   "outputs": [],
   "source": [
    "# simple function (with only def, function name, and function body)\n",
    "\n",
    "def helloworld():\n",
    "\tprint(\"Hello World\")"
   ]
  },
  {
   "cell_type": "code",
   "execution_count": null,
   "id": "7e5d9461",
   "metadata": {},
   "outputs": [],
   "source": [
    "# call your simple function\n",
    "helloworld()"
   ]
  },
  {
   "cell_type": "code",
   "execution_count": null,
   "id": "f681bfff",
   "metadata": {},
   "outputs": [],
   "source": [
    "# function with parameters\n",
    "def greet(name):\n",
    "\tprint(\"Hello\", name)"
   ]
  },
  {
   "cell_type": "code",
   "execution_count": null,
   "id": "4ced3b8e",
   "metadata": {},
   "outputs": [],
   "source": [
    "# call your greeting function\n",
    "greet(\"Justin\")"
   ]
  },
  {
   "cell_type": "code",
   "execution_count": null,
   "id": "254f22ef",
   "metadata": {},
   "outputs": [],
   "source": [
    "# function with return value and a docstring\n",
    "\n",
    "def square(x):\n",
    "\t'''This function returns the square of a number (x)''' # the docstring goes right after the function header\n",
    "\tsquare_value = x * x\n",
    "\t# print(f\"Square value of {x} is:\", square_value)\n",
    "\treturn square_value"
   ]
  },
  {
   "cell_type": "markdown",
   "id": "c08080a6",
   "metadata": {},
   "source": [
    "## 2.5) The \"help\" function\n",
    "\n",
    "The help built in function retrieves the docstring (description) of another function. The better the function docstring the more helpful. \n",
    "\n",
    "Docstrings should include:\n",
    "- What a function does\n",
    "- Its parameters - how to use it\n",
    "- What it returns"
   ]
  },
  {
   "cell_type": "code",
   "execution_count": null,
   "id": "196491a4",
   "metadata": {},
   "outputs": [],
   "source": [
    "# A function with a d\n",
    "help(square)"
   ]
  },
  {
   "cell_type": "code",
   "execution_count": null,
   "id": "4afa9024",
   "metadata": {},
   "outputs": [],
   "source": [
    "help(greet)"
   ]
  },
  {
   "cell_type": "code",
   "execution_count": null,
   "id": "69edfcd5",
   "metadata": {},
   "outputs": [],
   "source": [
    "# let's look at another example - the print function\n",
    "help(print)"
   ]
  },
  {
   "cell_type": "code",
   "execution_count": null,
   "id": "005dc3f2",
   "metadata": {},
   "outputs": [],
   "source": [
    "# value to be squared\n",
    "value = 3\n",
    "\n",
    "# call your squaring function\n",
    "squared_value = square(value)\n",
    "print(\"Returned value is:\", squared_value)"
   ]
  },
  {
   "cell_type": "markdown",
   "id": "126da67d",
   "metadata": {},
   "source": [
    "# 3) Let's combine loops and functions"
   ]
  },
  {
   "cell_type": "code",
   "execution_count": null,
   "id": "c015ac70",
   "metadata": {},
   "outputs": [],
   "source": [
    "# I want to greet multiple people and give them their squared value\n",
    "names = ['Justin', 'Haxby', 'Subaru','Isabella']\n",
    "values = [2,3,4,5]\n",
    "\n",
    "for i in range(len(names)):\n",
    "    # print(\"\\ni:\", i)\n",
    "    greet(names[i])\n",
    "    square_value = square(values[i])\n",
    "    print(f\"Your square value is: {square_value}\\n\")"
   ]
  },
  {
   "cell_type": "markdown",
   "id": "4bfd0f5e",
   "metadata": {},
   "source": [
    "# 4) Using loops and functions for plotting 3 heatmaps in one figure\n"
   ]
  },
  {
   "cell_type": "markdown",
   "id": "2d7fa090",
   "metadata": {},
   "source": [
    "## 4.1) Write a function to import the data from last session"
   ]
  },
  {
   "cell_type": "code",
   "execution_count": null,
   "id": "e2625cba",
   "metadata": {},
   "outputs": [],
   "source": [
    "# import data \n",
    "pathin = r\"C:\\Users\\uqicasin\\Documents\\Teaching\\Program_Workshop\\ProgrammingWorkshop_Git\\ProgrammingWorkshop\\007_heatmap_data\\Data_S4.xlsx\" # what we've used in the past\n",
    "\n",
    "\n",
    "# Using relative path\n",
    "# pathin = os.path.join(\"007_heatmap_data\", \"Data_S4.xlsx\") # to go back one directory, use \"..\"\n",
    "print(os.path.abspath(pathin))"
   ]
  },
  {
   "cell_type": "code",
   "execution_count": null,
   "id": "d751846b",
   "metadata": {},
   "outputs": [],
   "source": [
    "# What we did before in session 007\n",
    "# # Set the gene column to be the index\n",
    "# df_MvsDH = pd.read_excel(pathin, sheet_name='Sheet4', index_col=0)\n",
    "# df_ZvsDH = pd.read_excel(pathin, sheet_name='Sheet5', index_col=0)\n",
    "# df_ZvsM = pd.read_excel(pathin, sheet_name='Sheet6', index_col=0)\n",
    "#-------------------------------------------------------------------------------------------------------\n",
    "\n",
    "def load_data(pathin, sheet_name, index_col=None):\n",
    "\t\"\"\"Load data from an Excel file as a pandas DataFrame.\n",
    "\tParameters:\n",
    "\tpathin (str): The file path to the Excel file.\n",
    "\tsheet_name (str): The name of the sheet to load.\n",
    "\tindex_col (int, optional): The column to set as the index. Defaults to 0\n",
    "\t\n",
    "\tReturns:\n",
    "\tpd.DataFrame: The loaded DataFrame.\n",
    "\t\"\"\"\n",
    "\tdf = pd.read_excel(pathin, sheet_name=sheet_name, index_col=0)\n",
    "\treturn df"
   ]
  },
  {
   "cell_type": "code",
   "execution_count": null,
   "id": "06312010",
   "metadata": {},
   "outputs": [],
   "source": [
    "# Now we can use our function to load each sheet\n",
    "list_of_sheets = ['Sheet4', 'Sheet5', 'Sheet6'] # MvsDH, ZvsDH, ZvsM\n",
    "\n",
    "list_of_dfs = [] # initalize an empty list to hold the dataframes that we will load\n",
    "\n",
    "for sheet in list_of_sheets:\n",
    "\tdf = load_data(pathin, sheet) # default index column is 0\n",
    "\tlist_of_dfs.append(df)"
   ]
  },
  {
   "cell_type": "markdown",
   "id": "fdcb12a5",
   "metadata": {},
   "source": [
    "## 4.2) Write a function to process the data for the heatmaps"
   ]
  },
  {
   "cell_type": "code",
   "execution_count": null,
   "id": "8fe9b6fe",
   "metadata": {},
   "outputs": [],
   "source": [
    "# What we did before in session 007\n",
    "\n",
    "# # Remove rows with NaN as index in df_MvsDH\n",
    "# df_MvsDH = df_MvsDH[~df_MvsDH.index.isna()]\n",
    "\n",
    "# # Remove rows with NaN as index in df_ZvsDH\n",
    "# df_ZvsDH = df_ZvsDH[~df_ZvsDH.index.isna()]\n",
    "\n",
    "# # Remove rows with NaN as index in df_ZvsM\n",
    "# df_ZvsM = df_ZvsM[~df_ZvsM.index.isna()]\n",
    "\n",
    "\n",
    "# df_MvsDH_filtered = df_MvsDH[(df_MvsDH[\"log2FoldChange\"] <= -3) | (df_MvsDH[\"log2FoldChange\"] >= 3)]\n",
    "# df_ZvsDH_filtered = df_ZvsDH[(df_ZvsDH[\"log2FoldChange\"] <= -3) | (df_ZvsDH[\"log2FoldChange\"] >= 3)]\n",
    "# df_ZvsM_filtered = df_ZvsM[(df_ZvsM[\"log2FoldChange\"] <= -3) | (df_ZvsM[\"log2FoldChange\"] >= 3)]\n",
    "#-------------------------------------------------------------------------------------------------------\n",
    "\n",
    "def clean_filter_df(df,cutoff):\n",
    "\t\"\"\"Clean the DataFrame by removing rows with NaN as index.\n",
    "\tFilter values where \"log2FoldChange\" is less than or equal to -cutoff or greater than or equal to cutoff.\n",
    "\t\n",
    "\tParameters:\n",
    "\tdf (pd.DataFrame): The DataFrame to clean.\n",
    "\tcutoff (float): The cutoff value for filtering \"log2FoldChange\".\n",
    "\t\n",
    "\tReturns:\n",
    "\tpd.DataFrame: The cleaned DataFrame.\n",
    "\t\"\"\"\n",
    "\t# Remove rows with NaN as index\n",
    "\tcleaned_df = df[~df.index.isna()]\n",
    "\n",
    "\t# filter based on cutoff\n",
    "\tcleaned_df = cleaned_df[(cleaned_df[\"log2FoldChange\"] <= -cutoff) | (cleaned_df[\"log2FoldChange\"] >= cutoff)]\n",
    "\treturn cleaned_df\n"
   ]
  },
  {
   "cell_type": "code",
   "execution_count": null,
   "id": "6733dd12",
   "metadata": {},
   "outputs": [],
   "source": [
    "list_of_cleaned_filtered_dfs = [] # initalize an empty list to hold the cleaned and filtered dataframes\n",
    "\n",
    "# loop through each dataframe in the list_of_dfs\n",
    "for df in list_of_dfs:\n",
    "\tcleaned_filtered_df = clean_filter_df(df, cutoff=7) # run the cleaning and filtering function\n",
    "\t# print(cleaned_filtered_df)\n",
    "\tlist_of_cleaned_filtered_dfs.append(cleaned_filtered_df) # add the cleaned and filtered dataframe to the new list"
   ]
  },
  {
   "cell_type": "code",
   "execution_count": null,
   "id": "59747acf",
   "metadata": {},
   "outputs": [],
   "source": [
    "list_of_cleaned_filtered_dfs[0]"
   ]
  },
  {
   "cell_type": "markdown",
   "id": "aa6f9015",
   "metadata": {},
   "source": [
    "## 4.3) Exercise:\n",
    "What could you change in clean_filter_df function if you wanted to filter by a different column?"
   ]
  },
  {
   "cell_type": "markdown",
   "id": "efa85056",
   "metadata": {},
   "source": [
    "## 4.4) Write a function to plot a heatmap"
   ]
  },
  {
   "cell_type": "code",
   "execution_count": null,
   "id": "185805bd",
   "metadata": {},
   "outputs": [],
   "source": [
    "# figure parameters\n",
    "\n",
    "# Set global font and font size\n",
    "mpl.rcParams['font.family'] = 'Arial'         # or 'DejaVu Sans', 'Times New Roman', etc.\n",
    "mpl.rcParams['font.size'] = 10            # global font size\n",
    "\n",
    "# Set global figure size (width, height) in inches\n",
    "mpl.rcParams['figure.figsize'] = (8, 6)       # all figures will be 8x6 inches\n",
    "\n",
    "mpl.rcParams['axes.titlesize'] = 10          # title font size\n",
    "mpl.rcParams['axes.labelsize'] = 10          # axis label font size\n",
    "mpl.rcParams['xtick.labelsize'] = 10          # x-axis tick font size\n",
    "mpl.rcParams['ytick.labelsize'] = 10          # y-axis tick font size\n",
    "mpl.rcParams['legend.fontsize'] = 10          # legend font size"
   ]
  },
  {
   "cell_type": "code",
   "execution_count": null,
   "id": "1b4064c5",
   "metadata": {},
   "outputs": [],
   "source": [
    "# compare to what we did in session 007\n",
    "def plot_heatmap(df, label, columns, mapcolor='coolwarm', mapsize=(2.5, 10), pathout=None):\n",
    "\t\"\"\"Plot a heatmap from a DataFrame.\n",
    "\t\n",
    "\tParameters:\n",
    "\tdf (pd.DataFrame): The DataFrame to plot.\n",
    "\tlabel (str): The label of the heatmap.\n",
    "\tcolumns (list): List of columns to include in the heatmap.\n",
    "\tmapcolor (str, optional): The colormap to use. Defaults to \"vlag\".\n",
    "\tmapsize (tuple, optional): The size of the figure. Defaults to (6,8).\n",
    "\tpathout (str, optional): The path to save the figure. Defaults to None.\n",
    "\n",
    "\tReturns:\n",
    "\tNone\n",
    "\n",
    "\tPlots a heatmap using seaborn and matplotlib.\n",
    "\tSaves the figure if pathout is provided.\n",
    "\t\"\"\"\n",
    "\tplt.figure(figsize=mapsize)\n",
    "\tax = sns.heatmap(df[columns], cmap=mapcolor,\n",
    "\t\t\t yticklabels=df.index, # there are too many genes so we skips some labels\n",
    "\t\t\t linewidths=0.5, # with lines between cells\n",
    "\t\t\t linecolor=\"white\", # color of lines\n",
    "    \t\t cbar_kws={\"shrink\": 0.5, \"aspect\": 10, \"pad\": 0.3})#, # colorbar settings\n",
    "\t\t\t#  center=0, annot=True, fmt=\".2f\")\n",
    "\n",
    "\t# Customize colorbar\n",
    "\tcbar = ax.collections[0].colorbar\n",
    "\tcbar.set_label(\"Log2FC\",fontsize=10, fontweight=\"bold\")\n",
    "\tcbar.ax.tick_params(labelsize=10)#, length=0)  # tick font size, tick length 0 to hide ticks\n",
    "\n",
    "\t# coords = (x, y) in axes fraction\n",
    "\tcbar.ax.yaxis.label.set_rotation(90)\n",
    "\tcbar.ax.yaxis.label.set_horizontalalignment(\"center\")\n",
    "\tcbar.ax.yaxis.set_label_coords(-1.4, 0.5)  # move further left\n",
    "\n",
    "\t# Formatting of the labels and titles\n",
    "\tax.set_title(f\"DE Transcriptomics >7 | <-7\", fontsize=12, pad=15)\n",
    "\tax.set_ylabel(\"DH Genes (Reference Strain)\", fontsize=10,fontweight=\"bold\")\n",
    "\tax.set_xlabel(\"\")  # keep empty\n",
    "\tax.tick_params(axis=\"y\", labelsize=8)#, which=\"both\", length=0, rotation=0)  # tick label font size, tick length 0 to hide ticks\n",
    "\n",
    "\t# Manually add x-axis labels with rotation and position\n",
    "\tax.set_xticklabels([label])     # hide default\n",
    "\n",
    "\tstep = max(1, len(df) // 40)  # show ~40 labels max, adjust as needed\n",
    "\tax.set_yticks(ax.get_yticks()[::step]) # take every 'step' tick\n",
    "\tax.set_yticklabels(df.index[::step]) # take every 'step' label\n",
    "\n",
    "\t# Add a second x-axis on top for \"Group1\"\n",
    "\tax2 = ax.twiny()\n",
    "\tax2.set_xlim(ax.get_xlim())  # match heatmap\n",
    "\tax2.set_xticks([0.5])  # position between the two heatmap columns\n",
    "\tax2.set_xticklabels([\"Group1\"], fontsize=8, fontweight=\"bold\",rotation=90)\n",
    "\tax2.xaxis.tick_top()  # place ticks/labels on top\n",
    "\tax2.tick_params(length=4)  # remove the ticks if you want\n",
    "\n",
    "\tplt.tight_layout()\n",
    "\n",
    "\tif pathout:\n",
    "\t\t# Pull the timestamp (time now) in the formate that you want, YYYYmmdd_HHMMSS\n",
    "\t\ttimestamp = datetime.now().strftime(\"%Y%m%d_%H%M%S\")\n",
    "\t\t# add timestamp to the filename\n",
    "\t\tfilename = f\"{pathout}\\DE_Trans_loop_{label}_{timestamp}.svg\"\n",
    "\t\tplt.savefig(filename, dpi=300, bbox_inches='tight') # uncomment to save the figure\n",
    "\n",
    "\n",
    "\tplt.show()"
   ]
  },
  {
   "cell_type": "markdown",
   "id": "22a38fa0",
   "metadata": {},
   "source": [
    "## 4.5) Use the heatmap plotting function for three different conditions in a for loop"
   ]
  },
  {
   "cell_type": "code",
   "execution_count": null,
   "id": "8f76b75b",
   "metadata": {},
   "outputs": [],
   "source": [
    "labels = [\"MM vs DH\", \"ZZ vs DH\", \"ZZ vs MM\"]\n",
    "pathout = r\"C:\\Users\\uqicasin\\Documents\\Teaching\\Program_Workshop\\ProgrammingWorkshop_Git\\ProgrammingWorkshop\\007_heatmap_data\" # change to your desired output path\n",
    "for i in range(len(labels)):\n",
    "\tplot_heatmap(list_of_cleaned_filtered_dfs[i], label=labels[i], columns=[\"log2FoldChange\"],pathout=pathout)"
   ]
  },
  {
   "cell_type": "code",
   "execution_count": null,
   "id": "fbb8e415",
   "metadata": {},
   "outputs": [],
   "source": []
  }
 ],
 "metadata": {
  "kernelspec": {
   "display_name": "biotech",
   "language": "python",
   "name": "python3"
  },
  "language_info": {
   "codemirror_mode": {
    "name": "ipython",
    "version": 3
   },
   "file_extension": ".py",
   "mimetype": "text/x-python",
   "name": "python",
   "nbconvert_exporter": "python",
   "pygments_lexer": "ipython3",
   "version": "3.9.21"
  }
 },
 "nbformat": 4,
 "nbformat_minor": 5
}
